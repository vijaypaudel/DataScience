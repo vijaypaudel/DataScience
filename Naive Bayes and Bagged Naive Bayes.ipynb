{
 "cells": [
  {
   "cell_type": "code",
   "execution_count": 1,
   "metadata": {},
   "outputs": [],
   "source": [
    "import pandas as pd\n",
    "import numpy as np\n",
    "import matplotlib.pyplot as plt\n",
    "import seaborn as sns\n",
    "import datetime as dt\n",
    "import scipy.stats as stats"
   ]
  },
  {
   "cell_type": "code",
   "execution_count": 24,
   "metadata": {},
   "outputs": [
    {
     "data": {
      "text/html": [
       "<div>\n",
       "<style scoped>\n",
       "    .dataframe tbody tr th:only-of-type {\n",
       "        vertical-align: middle;\n",
       "    }\n",
       "\n",
       "    .dataframe tbody tr th {\n",
       "        vertical-align: top;\n",
       "    }\n",
       "\n",
       "    .dataframe thead th {\n",
       "        text-align: right;\n",
       "    }\n",
       "</style>\n",
       "<table border=\"1\" class=\"dataframe\">\n",
       "  <thead>\n",
       "    <tr style=\"text-align: right;\">\n",
       "      <th></th>\n",
       "      <th>retained</th>\n",
       "      <th>created</th>\n",
       "      <th>firstorder</th>\n",
       "      <th>lastorder</th>\n",
       "      <th>esent</th>\n",
       "      <th>eopenrate</th>\n",
       "      <th>eclickrate</th>\n",
       "      <th>avgorder</th>\n",
       "      <th>ordfreq</th>\n",
       "      <th>paperless</th>\n",
       "      <th>refill</th>\n",
       "      <th>doorstep</th>\n",
       "      <th>favday</th>\n",
       "      <th>city</th>\n",
       "      <th>eopen</th>\n",
       "      <th>tenure</th>\n",
       "      <th>recency</th>\n",
       "    </tr>\n",
       "  </thead>\n",
       "  <tbody>\n",
       "    <tr>\n",
       "      <td>0</td>\n",
       "      <td>0</td>\n",
       "      <td>2012-09-28</td>\n",
       "      <td>2013-11-08</td>\n",
       "      <td>2013-11-08</td>\n",
       "      <td>29</td>\n",
       "      <td>100.000000</td>\n",
       "      <td>3.448276</td>\n",
       "      <td>14.52</td>\n",
       "      <td>0.000000</td>\n",
       "      <td>0</td>\n",
       "      <td>0</td>\n",
       "      <td>0</td>\n",
       "      <td>Monday</td>\n",
       "      <td>DEL</td>\n",
       "      <td>29</td>\n",
       "      <td>1.112329</td>\n",
       "      <td>5.065753</td>\n",
       "    </tr>\n",
       "    <tr>\n",
       "      <td>1</td>\n",
       "      <td>1</td>\n",
       "      <td>2010-12-19</td>\n",
       "      <td>2011-01-04</td>\n",
       "      <td>2014-01-19</td>\n",
       "      <td>95</td>\n",
       "      <td>92.631579</td>\n",
       "      <td>10.526316</td>\n",
       "      <td>83.69</td>\n",
       "      <td>0.181641</td>\n",
       "      <td>1</td>\n",
       "      <td>1</td>\n",
       "      <td>1</td>\n",
       "      <td>Friday</td>\n",
       "      <td>DEL</td>\n",
       "      <td>89</td>\n",
       "      <td>3.087671</td>\n",
       "      <td>4.868493</td>\n",
       "    </tr>\n",
       "    <tr>\n",
       "      <td>2</td>\n",
       "      <td>0</td>\n",
       "      <td>2010-10-22</td>\n",
       "      <td>2011-03-28</td>\n",
       "      <td>2011-03-28</td>\n",
       "      <td>0</td>\n",
       "      <td>0.000000</td>\n",
       "      <td>0.000000</td>\n",
       "      <td>54.96</td>\n",
       "      <td>0.000000</td>\n",
       "      <td>0</td>\n",
       "      <td>0</td>\n",
       "      <td>0</td>\n",
       "      <td>Thursday</td>\n",
       "      <td>BOM</td>\n",
       "      <td>0</td>\n",
       "      <td>0.430137</td>\n",
       "      <td>7.684932</td>\n",
       "    </tr>\n",
       "    <tr>\n",
       "      <td>3</td>\n",
       "      <td>1</td>\n",
       "      <td>2010-11-27</td>\n",
       "      <td>2010-11-29</td>\n",
       "      <td>2013-01-28</td>\n",
       "      <td>30</td>\n",
       "      <td>90.000000</td>\n",
       "      <td>13.333333</td>\n",
       "      <td>111.91</td>\n",
       "      <td>0.008850</td>\n",
       "      <td>0</td>\n",
       "      <td>0</td>\n",
       "      <td>0</td>\n",
       "      <td>Monday</td>\n",
       "      <td>BOM</td>\n",
       "      <td>27</td>\n",
       "      <td>2.172603</td>\n",
       "      <td>5.843836</td>\n",
       "    </tr>\n",
       "    <tr>\n",
       "      <td>4</td>\n",
       "      <td>1</td>\n",
       "      <td>2008-11-17</td>\n",
       "      <td>2010-12-10</td>\n",
       "      <td>2014-01-14</td>\n",
       "      <td>46</td>\n",
       "      <td>80.434783</td>\n",
       "      <td>15.217391</td>\n",
       "      <td>175.10</td>\n",
       "      <td>0.141176</td>\n",
       "      <td>1</td>\n",
       "      <td>1</td>\n",
       "      <td>0</td>\n",
       "      <td>Wednesday</td>\n",
       "      <td>DEL</td>\n",
       "      <td>38</td>\n",
       "      <td>5.161644</td>\n",
       "      <td>4.882192</td>\n",
       "    </tr>\n",
       "  </tbody>\n",
       "</table>\n",
       "</div>"
      ],
      "text/plain": [
       "   retained     created  firstorder   lastorder  esent   eopenrate  \\\n",
       "0         0  2012-09-28  2013-11-08  2013-11-08     29  100.000000   \n",
       "1         1  2010-12-19  2011-01-04  2014-01-19     95   92.631579   \n",
       "2         0  2010-10-22  2011-03-28  2011-03-28      0    0.000000   \n",
       "3         1  2010-11-27  2010-11-29  2013-01-28     30   90.000000   \n",
       "4         1  2008-11-17  2010-12-10  2014-01-14     46   80.434783   \n",
       "\n",
       "   eclickrate  avgorder   ordfreq  paperless  refill  doorstep     favday  \\\n",
       "0    3.448276     14.52  0.000000          0       0         0     Monday   \n",
       "1   10.526316     83.69  0.181641          1       1         1     Friday   \n",
       "2    0.000000     54.96  0.000000          0       0         0   Thursday   \n",
       "3   13.333333    111.91  0.008850          0       0         0     Monday   \n",
       "4   15.217391    175.10  0.141176          1       1         0  Wednesday   \n",
       "\n",
       "  city  eopen    tenure   recency  \n",
       "0  DEL     29  1.112329  5.065753  \n",
       "1  DEL     89  3.087671  4.868493  \n",
       "2  BOM      0  0.430137  7.684932  \n",
       "3  BOM     27  2.172603  5.843836  \n",
       "4  DEL     38  5.161644  4.882192  "
      ]
     },
     "execution_count": 24,
     "metadata": {},
     "output_type": "execute_result"
    }
   ],
   "source": [
    "df = pd.read_csv('clean_data.csv')\n",
    "df.head()"
   ]
  },
  {
   "cell_type": "code",
   "execution_count": 25,
   "metadata": {},
   "outputs": [],
   "source": [
    "df['created'] = df['created'].apply(lambda x: pd.to_datetime(str(x)))\n",
    "df['firstorder'] = df['firstorder'].apply(lambda x: pd.to_datetime(str(x)))\n",
    "df['lastorder'] = df['lastorder'].apply(lambda x: pd.to_datetime(str(x)))"
   ]
  },
  {
   "cell_type": "code",
   "execution_count": 26,
   "metadata": {},
   "outputs": [
    {
     "data": {
      "text/plain": [
       "retained               int64\n",
       "created       datetime64[ns]\n",
       "firstorder    datetime64[ns]\n",
       "lastorder     datetime64[ns]\n",
       "esent                  int64\n",
       "eopenrate            float64\n",
       "eclickrate           float64\n",
       "avgorder             float64\n",
       "ordfreq              float64\n",
       "paperless              int64\n",
       "refill                 int64\n",
       "doorstep               int64\n",
       "favday                object\n",
       "city                  object\n",
       "eopen                  int64\n",
       "tenure               float64\n",
       "recency              float64\n",
       "dtype: object"
      ]
     },
     "execution_count": 26,
     "metadata": {},
     "output_type": "execute_result"
    }
   ],
   "source": [
    "df.dtypes"
   ]
  },
  {
   "cell_type": "code",
   "execution_count": 27,
   "metadata": {},
   "outputs": [],
   "source": [
    "df1 = df.drop(['eopenrate','avgorder','tenure'],axis=1)"
   ]
  },
  {
   "cell_type": "code",
   "execution_count": 28,
   "metadata": {},
   "outputs": [],
   "source": [
    "num_data = df.select_dtypes(np.number)"
   ]
  },
  {
   "cell_type": "code",
   "execution_count": 183,
   "metadata": {},
   "outputs": [],
   "source": [
    "from sklearn.preprocessing import StandardScaler\n",
    "from sklearn.model_selection import train_test_split, KFold, cross_val_score, GridSearchCV, RandomizedSearchCV\n",
    "from sklearn.metrics import confusion_matrix, accuracy_score, roc_auc_score, recall_score, classification_report, precision_score, f1_score\n",
    "\n",
    "from sklearn.linear_model import LogisticRegression\n",
    "from sklearn.naive_bayes import GaussianNB\n",
    "from sklearn.neighbors import KNeighborsClassifier\n",
    "from sklearn.tree import DecisionTreeClassifier\n",
    "from sklearn.ensemble import RandomForestClassifier, AdaBoostClassifier, GradientBoostingClassifier, BaggingClassifier\n",
    "from xgboost import XGBClassifier"
   ]
  },
  {
   "cell_type": "code",
   "execution_count": 29,
   "metadata": {},
   "outputs": [
    {
     "data": {
      "text/html": [
       "<div>\n",
       "<style scoped>\n",
       "    .dataframe tbody tr th:only-of-type {\n",
       "        vertical-align: middle;\n",
       "    }\n",
       "\n",
       "    .dataframe tbody tr th {\n",
       "        vertical-align: top;\n",
       "    }\n",
       "\n",
       "    .dataframe thead th {\n",
       "        text-align: right;\n",
       "    }\n",
       "</style>\n",
       "<table border=\"1\" class=\"dataframe\">\n",
       "  <thead>\n",
       "    <tr style=\"text-align: right;\">\n",
       "      <th></th>\n",
       "      <th>favday_Monday</th>\n",
       "      <th>favday_Saturday</th>\n",
       "      <th>favday_Sunday</th>\n",
       "      <th>favday_Thursday</th>\n",
       "      <th>favday_Tuesday</th>\n",
       "      <th>favday_Wednesday</th>\n",
       "      <th>city_BOM</th>\n",
       "      <th>city_DEL</th>\n",
       "      <th>city_MAA</th>\n",
       "    </tr>\n",
       "  </thead>\n",
       "  <tbody>\n",
       "    <tr>\n",
       "      <td>0</td>\n",
       "      <td>1</td>\n",
       "      <td>0</td>\n",
       "      <td>0</td>\n",
       "      <td>0</td>\n",
       "      <td>0</td>\n",
       "      <td>0</td>\n",
       "      <td>0</td>\n",
       "      <td>1</td>\n",
       "      <td>0</td>\n",
       "    </tr>\n",
       "    <tr>\n",
       "      <td>1</td>\n",
       "      <td>0</td>\n",
       "      <td>0</td>\n",
       "      <td>0</td>\n",
       "      <td>0</td>\n",
       "      <td>0</td>\n",
       "      <td>0</td>\n",
       "      <td>0</td>\n",
       "      <td>1</td>\n",
       "      <td>0</td>\n",
       "    </tr>\n",
       "    <tr>\n",
       "      <td>2</td>\n",
       "      <td>0</td>\n",
       "      <td>0</td>\n",
       "      <td>0</td>\n",
       "      <td>1</td>\n",
       "      <td>0</td>\n",
       "      <td>0</td>\n",
       "      <td>1</td>\n",
       "      <td>0</td>\n",
       "      <td>0</td>\n",
       "    </tr>\n",
       "    <tr>\n",
       "      <td>3</td>\n",
       "      <td>1</td>\n",
       "      <td>0</td>\n",
       "      <td>0</td>\n",
       "      <td>0</td>\n",
       "      <td>0</td>\n",
       "      <td>0</td>\n",
       "      <td>1</td>\n",
       "      <td>0</td>\n",
       "      <td>0</td>\n",
       "    </tr>\n",
       "    <tr>\n",
       "      <td>4</td>\n",
       "      <td>0</td>\n",
       "      <td>0</td>\n",
       "      <td>0</td>\n",
       "      <td>0</td>\n",
       "      <td>0</td>\n",
       "      <td>1</td>\n",
       "      <td>0</td>\n",
       "      <td>1</td>\n",
       "      <td>0</td>\n",
       "    </tr>\n",
       "  </tbody>\n",
       "</table>\n",
       "</div>"
      ],
      "text/plain": [
       "   favday_Monday  favday_Saturday  favday_Sunday  favday_Thursday  \\\n",
       "0              1                0              0                0   \n",
       "1              0                0              0                0   \n",
       "2              0                0              0                1   \n",
       "3              1                0              0                0   \n",
       "4              0                0              0                0   \n",
       "\n",
       "   favday_Tuesday  favday_Wednesday  city_BOM  city_DEL  city_MAA  \n",
       "0               0                 0         0         1         0  \n",
       "1               0                 0         0         1         0  \n",
       "2               0                 0         1         0         0  \n",
       "3               0                 0         1         0         0  \n",
       "4               0                 1         0         1         0  "
      ]
     },
     "execution_count": 29,
     "metadata": {},
     "output_type": "execute_result"
    }
   ],
   "source": [
    "favday_df = pd.get_dummies(df1[['favday','city']],drop_first=True)\n",
    "favday_df.head()"
   ]
  },
  {
   "cell_type": "code",
   "execution_count": 30,
   "metadata": {},
   "outputs": [
    {
     "data": {
      "text/html": [
       "<div>\n",
       "<style scoped>\n",
       "    .dataframe tbody tr th:only-of-type {\n",
       "        vertical-align: middle;\n",
       "    }\n",
       "\n",
       "    .dataframe tbody tr th {\n",
       "        vertical-align: top;\n",
       "    }\n",
       "\n",
       "    .dataframe thead th {\n",
       "        text-align: right;\n",
       "    }\n",
       "</style>\n",
       "<table border=\"1\" class=\"dataframe\">\n",
       "  <thead>\n",
       "    <tr style=\"text-align: right;\">\n",
       "      <th></th>\n",
       "      <th>retained</th>\n",
       "      <th>esent</th>\n",
       "      <th>eopenrate</th>\n",
       "      <th>eclickrate</th>\n",
       "      <th>avgorder</th>\n",
       "      <th>ordfreq</th>\n",
       "      <th>paperless</th>\n",
       "      <th>refill</th>\n",
       "      <th>doorstep</th>\n",
       "      <th>eopen</th>\n",
       "      <th>...</th>\n",
       "      <th>favday_Sunday</th>\n",
       "      <th>favday_Thursday</th>\n",
       "      <th>favday_Tuesday</th>\n",
       "      <th>favday_Wednesday</th>\n",
       "      <th>city_BOM</th>\n",
       "      <th>city_DEL</th>\n",
       "      <th>city_MAA</th>\n",
       "      <th>paperless</th>\n",
       "      <th>refill</th>\n",
       "      <th>doorstep</th>\n",
       "    </tr>\n",
       "  </thead>\n",
       "  <tbody>\n",
       "    <tr>\n",
       "      <td>0</td>\n",
       "      <td>0</td>\n",
       "      <td>29</td>\n",
       "      <td>100.000000</td>\n",
       "      <td>3.448276</td>\n",
       "      <td>14.52</td>\n",
       "      <td>0.000000</td>\n",
       "      <td>0</td>\n",
       "      <td>0</td>\n",
       "      <td>0</td>\n",
       "      <td>29</td>\n",
       "      <td>...</td>\n",
       "      <td>0</td>\n",
       "      <td>0</td>\n",
       "      <td>0</td>\n",
       "      <td>0</td>\n",
       "      <td>0</td>\n",
       "      <td>1</td>\n",
       "      <td>0</td>\n",
       "      <td>0</td>\n",
       "      <td>0</td>\n",
       "      <td>0</td>\n",
       "    </tr>\n",
       "    <tr>\n",
       "      <td>1</td>\n",
       "      <td>1</td>\n",
       "      <td>95</td>\n",
       "      <td>92.631579</td>\n",
       "      <td>10.526316</td>\n",
       "      <td>83.69</td>\n",
       "      <td>0.181641</td>\n",
       "      <td>1</td>\n",
       "      <td>1</td>\n",
       "      <td>1</td>\n",
       "      <td>89</td>\n",
       "      <td>...</td>\n",
       "      <td>0</td>\n",
       "      <td>0</td>\n",
       "      <td>0</td>\n",
       "      <td>0</td>\n",
       "      <td>0</td>\n",
       "      <td>1</td>\n",
       "      <td>0</td>\n",
       "      <td>1</td>\n",
       "      <td>1</td>\n",
       "      <td>1</td>\n",
       "    </tr>\n",
       "    <tr>\n",
       "      <td>2</td>\n",
       "      <td>0</td>\n",
       "      <td>0</td>\n",
       "      <td>0.000000</td>\n",
       "      <td>0.000000</td>\n",
       "      <td>54.96</td>\n",
       "      <td>0.000000</td>\n",
       "      <td>0</td>\n",
       "      <td>0</td>\n",
       "      <td>0</td>\n",
       "      <td>0</td>\n",
       "      <td>...</td>\n",
       "      <td>0</td>\n",
       "      <td>1</td>\n",
       "      <td>0</td>\n",
       "      <td>0</td>\n",
       "      <td>1</td>\n",
       "      <td>0</td>\n",
       "      <td>0</td>\n",
       "      <td>0</td>\n",
       "      <td>0</td>\n",
       "      <td>0</td>\n",
       "    </tr>\n",
       "    <tr>\n",
       "      <td>3</td>\n",
       "      <td>1</td>\n",
       "      <td>30</td>\n",
       "      <td>90.000000</td>\n",
       "      <td>13.333333</td>\n",
       "      <td>111.91</td>\n",
       "      <td>0.008850</td>\n",
       "      <td>0</td>\n",
       "      <td>0</td>\n",
       "      <td>0</td>\n",
       "      <td>27</td>\n",
       "      <td>...</td>\n",
       "      <td>0</td>\n",
       "      <td>0</td>\n",
       "      <td>0</td>\n",
       "      <td>0</td>\n",
       "      <td>1</td>\n",
       "      <td>0</td>\n",
       "      <td>0</td>\n",
       "      <td>0</td>\n",
       "      <td>0</td>\n",
       "      <td>0</td>\n",
       "    </tr>\n",
       "    <tr>\n",
       "      <td>4</td>\n",
       "      <td>1</td>\n",
       "      <td>46</td>\n",
       "      <td>80.434783</td>\n",
       "      <td>15.217391</td>\n",
       "      <td>175.10</td>\n",
       "      <td>0.141176</td>\n",
       "      <td>1</td>\n",
       "      <td>1</td>\n",
       "      <td>0</td>\n",
       "      <td>38</td>\n",
       "      <td>...</td>\n",
       "      <td>0</td>\n",
       "      <td>0</td>\n",
       "      <td>0</td>\n",
       "      <td>1</td>\n",
       "      <td>0</td>\n",
       "      <td>1</td>\n",
       "      <td>0</td>\n",
       "      <td>1</td>\n",
       "      <td>1</td>\n",
       "      <td>0</td>\n",
       "    </tr>\n",
       "  </tbody>\n",
       "</table>\n",
       "<p>5 rows × 24 columns</p>\n",
       "</div>"
      ],
      "text/plain": [
       "   retained  esent   eopenrate  eclickrate  avgorder   ordfreq  paperless  \\\n",
       "0         0     29  100.000000    3.448276     14.52  0.000000          0   \n",
       "1         1     95   92.631579   10.526316     83.69  0.181641          1   \n",
       "2         0      0    0.000000    0.000000     54.96  0.000000          0   \n",
       "3         1     30   90.000000   13.333333    111.91  0.008850          0   \n",
       "4         1     46   80.434783   15.217391    175.10  0.141176          1   \n",
       "\n",
       "   refill  doorstep  eopen  ...  favday_Sunday  favday_Thursday  \\\n",
       "0       0         0     29  ...              0                0   \n",
       "1       1         1     89  ...              0                0   \n",
       "2       0         0      0  ...              0                1   \n",
       "3       0         0     27  ...              0                0   \n",
       "4       1         0     38  ...              0                0   \n",
       "\n",
       "   favday_Tuesday  favday_Wednesday  city_BOM  city_DEL  city_MAA  paperless  \\\n",
       "0               0                 0         0         1         0          0   \n",
       "1               0                 0         0         1         0          1   \n",
       "2               0                 0         1         0         0          0   \n",
       "3               0                 0         1         0         0          0   \n",
       "4               0                 1         0         1         0          1   \n",
       "\n",
       "   refill  doorstep  \n",
       "0       0         0  \n",
       "1       1         1  \n",
       "2       0         0  \n",
       "3       0         0  \n",
       "4       1         0  \n",
       "\n",
       "[5 rows x 24 columns]"
      ]
     },
     "execution_count": 30,
     "metadata": {},
     "output_type": "execute_result"
    }
   ],
   "source": [
    "df1 = pd.concat([num_data,favday_df,df1[['paperless','refill','doorstep']]],axis=1)\n",
    "df1.head()"
   ]
  },
  {
   "cell_type": "code",
   "execution_count": 31,
   "metadata": {},
   "outputs": [
    {
     "data": {
      "text/html": [
       "<div>\n",
       "<style scoped>\n",
       "    .dataframe tbody tr th:only-of-type {\n",
       "        vertical-align: middle;\n",
       "    }\n",
       "\n",
       "    .dataframe tbody tr th {\n",
       "        vertical-align: top;\n",
       "    }\n",
       "\n",
       "    .dataframe thead th {\n",
       "        text-align: right;\n",
       "    }\n",
       "</style>\n",
       "<table border=\"1\" class=\"dataframe\">\n",
       "  <thead>\n",
       "    <tr style=\"text-align: right;\">\n",
       "      <th></th>\n",
       "      <th>esent</th>\n",
       "      <th>eopenrate</th>\n",
       "      <th>eclickrate</th>\n",
       "      <th>avgorder</th>\n",
       "      <th>ordfreq</th>\n",
       "      <th>paperless</th>\n",
       "      <th>refill</th>\n",
       "      <th>doorstep</th>\n",
       "      <th>eopen</th>\n",
       "      <th>tenure</th>\n",
       "      <th>...</th>\n",
       "      <th>favday_Sunday</th>\n",
       "      <th>favday_Thursday</th>\n",
       "      <th>favday_Tuesday</th>\n",
       "      <th>favday_Wednesday</th>\n",
       "      <th>city_BOM</th>\n",
       "      <th>city_DEL</th>\n",
       "      <th>city_MAA</th>\n",
       "      <th>paperless</th>\n",
       "      <th>refill</th>\n",
       "      <th>doorstep</th>\n",
       "    </tr>\n",
       "  </thead>\n",
       "  <tbody>\n",
       "    <tr>\n",
       "      <td>0</td>\n",
       "      <td>0.070237</td>\n",
       "      <td>2.503290</td>\n",
       "      <td>-0.214185</td>\n",
       "      <td>-1.220879</td>\n",
       "      <td>-0.305422</td>\n",
       "      <td>-1.409335</td>\n",
       "      <td>-0.330809</td>\n",
       "      <td>-0.198011</td>\n",
       "      <td>2.547955</td>\n",
       "      <td>0.866589</td>\n",
       "      <td>...</td>\n",
       "      <td>-0.090043</td>\n",
       "      <td>-0.451048</td>\n",
       "      <td>-0.534848</td>\n",
       "      <td>-0.433334</td>\n",
       "      <td>-0.789400</td>\n",
       "      <td>1.562430</td>\n",
       "      <td>-0.610868</td>\n",
       "      <td>-1.409335</td>\n",
       "      <td>-0.330809</td>\n",
       "      <td>-0.198011</td>\n",
       "    </tr>\n",
       "    <tr>\n",
       "      <td>1</td>\n",
       "      <td>4.020476</td>\n",
       "      <td>2.254823</td>\n",
       "      <td>0.457053</td>\n",
       "      <td>0.610978</td>\n",
       "      <td>1.526047</td>\n",
       "      <td>0.709554</td>\n",
       "      <td>3.022894</td>\n",
       "      <td>5.050218</td>\n",
       "      <td>9.443172</td>\n",
       "      <td>3.385594</td>\n",
       "      <td>...</td>\n",
       "      <td>-0.090043</td>\n",
       "      <td>-0.451048</td>\n",
       "      <td>-0.534848</td>\n",
       "      <td>-0.433334</td>\n",
       "      <td>-0.789400</td>\n",
       "      <td>1.562430</td>\n",
       "      <td>-0.610868</td>\n",
       "      <td>0.709554</td>\n",
       "      <td>3.022894</td>\n",
       "      <td>5.050218</td>\n",
       "    </tr>\n",
       "    <tr>\n",
       "      <td>2</td>\n",
       "      <td>-1.665474</td>\n",
       "      <td>-0.868760</td>\n",
       "      <td>-0.541198</td>\n",
       "      <td>-0.149890</td>\n",
       "      <td>-0.305422</td>\n",
       "      <td>-1.409335</td>\n",
       "      <td>-0.330809</td>\n",
       "      <td>-0.198011</td>\n",
       "      <td>-0.784734</td>\n",
       "      <td>-0.003358</td>\n",
       "      <td>...</td>\n",
       "      <td>-0.090043</td>\n",
       "      <td>2.217058</td>\n",
       "      <td>-0.534848</td>\n",
       "      <td>-0.433334</td>\n",
       "      <td>1.266785</td>\n",
       "      <td>-0.640029</td>\n",
       "      <td>-0.610868</td>\n",
       "      <td>-1.409335</td>\n",
       "      <td>-0.330809</td>\n",
       "      <td>-0.198011</td>\n",
       "    </tr>\n",
       "    <tr>\n",
       "      <td>3</td>\n",
       "      <td>0.130089</td>\n",
       "      <td>2.166085</td>\n",
       "      <td>0.723254</td>\n",
       "      <td>1.358340</td>\n",
       "      <td>-0.216193</td>\n",
       "      <td>-1.409335</td>\n",
       "      <td>-0.330809</td>\n",
       "      <td>-0.198011</td>\n",
       "      <td>2.318114</td>\n",
       "      <td>2.218676</td>\n",
       "      <td>...</td>\n",
       "      <td>-0.090043</td>\n",
       "      <td>-0.451048</td>\n",
       "      <td>-0.534848</td>\n",
       "      <td>-0.433334</td>\n",
       "      <td>1.266785</td>\n",
       "      <td>-0.640029</td>\n",
       "      <td>-0.610868</td>\n",
       "      <td>-1.409335</td>\n",
       "      <td>-0.330809</td>\n",
       "      <td>-0.198011</td>\n",
       "    </tr>\n",
       "    <tr>\n",
       "      <td>4</td>\n",
       "      <td>1.087723</td>\n",
       "      <td>1.843541</td>\n",
       "      <td>0.901926</td>\n",
       "      <td>3.031826</td>\n",
       "      <td>1.118050</td>\n",
       "      <td>0.709554</td>\n",
       "      <td>3.022894</td>\n",
       "      <td>-0.198011</td>\n",
       "      <td>3.582237</td>\n",
       "      <td>6.030374</td>\n",
       "      <td>...</td>\n",
       "      <td>-0.090043</td>\n",
       "      <td>-0.451048</td>\n",
       "      <td>-0.534848</td>\n",
       "      <td>2.307691</td>\n",
       "      <td>-0.789400</td>\n",
       "      <td>1.562430</td>\n",
       "      <td>-0.610868</td>\n",
       "      <td>0.709554</td>\n",
       "      <td>3.022894</td>\n",
       "      <td>-0.198011</td>\n",
       "    </tr>\n",
       "  </tbody>\n",
       "</table>\n",
       "<p>5 rows × 23 columns</p>\n",
       "</div>"
      ],
      "text/plain": [
       "      esent  eopenrate  eclickrate  avgorder   ordfreq  paperless    refill  \\\n",
       "0  0.070237   2.503290   -0.214185 -1.220879 -0.305422  -1.409335 -0.330809   \n",
       "1  4.020476   2.254823    0.457053  0.610978  1.526047   0.709554  3.022894   \n",
       "2 -1.665474  -0.868760   -0.541198 -0.149890 -0.305422  -1.409335 -0.330809   \n",
       "3  0.130089   2.166085    0.723254  1.358340 -0.216193  -1.409335 -0.330809   \n",
       "4  1.087723   1.843541    0.901926  3.031826  1.118050   0.709554  3.022894   \n",
       "\n",
       "   doorstep     eopen    tenure  ...  favday_Sunday  favday_Thursday  \\\n",
       "0 -0.198011  2.547955  0.866589  ...      -0.090043        -0.451048   \n",
       "1  5.050218  9.443172  3.385594  ...      -0.090043        -0.451048   \n",
       "2 -0.198011 -0.784734 -0.003358  ...      -0.090043         2.217058   \n",
       "3 -0.198011  2.318114  2.218676  ...      -0.090043        -0.451048   \n",
       "4 -0.198011  3.582237  6.030374  ...      -0.090043        -0.451048   \n",
       "\n",
       "   favday_Tuesday  favday_Wednesday  city_BOM  city_DEL  city_MAA  paperless  \\\n",
       "0       -0.534848         -0.433334 -0.789400  1.562430 -0.610868  -1.409335   \n",
       "1       -0.534848         -0.433334 -0.789400  1.562430 -0.610868   0.709554   \n",
       "2       -0.534848         -0.433334  1.266785 -0.640029 -0.610868  -1.409335   \n",
       "3       -0.534848         -0.433334  1.266785 -0.640029 -0.610868  -1.409335   \n",
       "4       -0.534848          2.307691 -0.789400  1.562430 -0.610868   0.709554   \n",
       "\n",
       "     refill  doorstep  \n",
       "0 -0.330809 -0.198011  \n",
       "1  3.022894  5.050218  \n",
       "2 -0.330809 -0.198011  \n",
       "3 -0.330809 -0.198011  \n",
       "4  3.022894 -0.198011  \n",
       "\n",
       "[5 rows x 23 columns]"
      ]
     },
     "execution_count": 31,
     "metadata": {},
     "output_type": "execute_result"
    }
   ],
   "source": [
    "X = df1.drop('retained',axis=1)\n",
    "y = df1['retained']\n",
    "\n",
    "sc = StandardScaler()\n",
    "sc_data = sc.fit_transform(X)\n",
    "X_sc = pd.DataFrame(sc_data,columns=X.columns)\n",
    "X_sc.head()"
   ]
  },
  {
   "cell_type": "code",
   "execution_count": 32,
   "metadata": {},
   "outputs": [],
   "source": [
    "X_train, X_test, y_train, y_test = train_test_split(X_sc, y, random_state = 10, test_size = 0.3)"
   ]
  },
  {
   "cell_type": "code",
   "execution_count": 33,
   "metadata": {},
   "outputs": [
    {
     "data": {
      "text/plain": [
       "0        0\n",
       "1        1\n",
       "2        0\n",
       "3        1\n",
       "4        1\n",
       "        ..\n",
       "25360    1\n",
       "25361    1\n",
       "25362    1\n",
       "25363    1\n",
       "25364    1\n",
       "Name: retained, Length: 25365, dtype: int64"
      ]
     },
     "execution_count": 33,
     "metadata": {},
     "output_type": "execute_result"
    }
   ],
   "source": [
    "df1['retained']"
   ]
  },
  {
   "cell_type": "markdown",
   "metadata": {},
   "source": [
    "# Gaussian NB "
   ]
  },
  {
   "cell_type": "markdown",
   "metadata": {},
   "source": [
    "## Hyper Parameter tuning"
   ]
  },
  {
   "cell_type": "code",
   "execution_count": 163,
   "metadata": {},
   "outputs": [],
   "source": [
    "nb = GaussianNB()\n",
    "nb_model = nb.fit(X_train,y_train)\n",
    "pred = nb_model.predict(X_test)"
   ]
  },
  {
   "cell_type": "code",
   "execution_count": 39,
   "metadata": {},
   "outputs": [
    {
     "data": {
      "text/plain": [
       "{'priors': None, 'var_smoothing': 1e-09}"
      ]
     },
     "execution_count": 39,
     "metadata": {},
     "output_type": "execute_result"
    }
   ],
   "source": [
    "nb.get_params()"
   ]
  },
  {
   "cell_type": "code",
   "execution_count": 164,
   "metadata": {},
   "outputs": [
    {
     "name": "stderr",
     "output_type": "stream",
     "text": [
      "[Parallel(n_jobs=1)]: Using backend SequentialBackend with 1 concurrent workers.\n",
      "[Parallel(n_jobs=1)]: Done  15 out of  15 | elapsed:    3.0s finished\n"
     ]
    }
   ],
   "source": [
    "#Preliminar modeling\n",
    "from sklearn.model_selection import RepeatedStratifiedKFold\n",
    "\n",
    "cv_method = RepeatedStratifiedKFold(n_splits=5, \n",
    "                                    n_repeats=3, \n",
    "                                    random_state=999)\n",
    "\n",
    "from sklearn.model_selection import cross_validate\n",
    "pre_score = cross_validate(estimator = nb,\n",
    "                             X = X_train, \n",
    "                             y = y_train,\n",
    "                             scoring = ['accuracy','recall','roc_auc','precision','f1'],\n",
    "                             cv = cv_method,\n",
    "                             verbose = 1,\n",
    "                          return_train_score=True\n",
    "                          )\n",
    "\n",
    "#print('Naive-Bayes mean score: %5.3f' %np.mean(pre_score))\n",
    "#print(pre_score)"
   ]
  },
  {
   "cell_type": "code",
   "execution_count": 47,
   "metadata": {
    "collapsed": true
   },
   "outputs": [
    {
     "data": {
      "text/plain": [
       "['accuracy',\n",
       " 'adjusted_mutual_info_score',\n",
       " 'adjusted_rand_score',\n",
       " 'average_precision',\n",
       " 'balanced_accuracy',\n",
       " 'completeness_score',\n",
       " 'explained_variance',\n",
       " 'f1',\n",
       " 'f1_macro',\n",
       " 'f1_micro',\n",
       " 'f1_samples',\n",
       " 'f1_weighted',\n",
       " 'fowlkes_mallows_score',\n",
       " 'homogeneity_score',\n",
       " 'jaccard',\n",
       " 'jaccard_macro',\n",
       " 'jaccard_micro',\n",
       " 'jaccard_samples',\n",
       " 'jaccard_weighted',\n",
       " 'max_error',\n",
       " 'mutual_info_score',\n",
       " 'neg_brier_score',\n",
       " 'neg_log_loss',\n",
       " 'neg_mean_absolute_error',\n",
       " 'neg_mean_absolute_percentage_error',\n",
       " 'neg_mean_gamma_deviance',\n",
       " 'neg_mean_poisson_deviance',\n",
       " 'neg_mean_squared_error',\n",
       " 'neg_mean_squared_log_error',\n",
       " 'neg_median_absolute_error',\n",
       " 'neg_root_mean_squared_error',\n",
       " 'normalized_mutual_info_score',\n",
       " 'precision',\n",
       " 'precision_macro',\n",
       " 'precision_micro',\n",
       " 'precision_samples',\n",
       " 'precision_weighted',\n",
       " 'r2',\n",
       " 'rand_score',\n",
       " 'recall',\n",
       " 'recall_macro',\n",
       " 'recall_micro',\n",
       " 'recall_samples',\n",
       " 'recall_weighted',\n",
       " 'roc_auc',\n",
       " 'roc_auc_ovo',\n",
       " 'roc_auc_ovo_weighted',\n",
       " 'roc_auc_ovr',\n",
       " 'roc_auc_ovr_weighted',\n",
       " 'top_k_accuracy',\n",
       " 'v_measure_score']"
      ]
     },
     "execution_count": 47,
     "metadata": {},
     "output_type": "execute_result"
    }
   ],
   "source": [
    "import sklearn\n",
    "sorted(sklearn.metrics.SCORERS.keys())"
   ]
  },
  {
   "cell_type": "code",
   "execution_count": 165,
   "metadata": {},
   "outputs": [
    {
     "name": "stdout",
     "output_type": "stream",
     "text": [
      "fit_time : 0.033\n",
      "score_time : 0.055\n",
      "test_accuracy : 0.883\n",
      "train_accuracy : 0.882\n",
      "test_recall : 0.886\n",
      "train_recall : 0.886\n",
      "test_roc_auc : 0.923\n",
      "train_roc_auc : 0.924\n",
      "test_precision : 0.964\n",
      "train_precision : 0.964\n",
      "test_f1 : 0.923\n",
      "train_f1 : 0.923\n"
     ]
    }
   ],
   "source": [
    "for k,v in pre_score.items():\n",
    "    print(k,':',round(np.mean(v),3))"
   ]
  },
  {
   "cell_type": "code",
   "execution_count": 166,
   "metadata": {},
   "outputs": [
    {
     "data": {
      "text/plain": [
       "{'priors': None, 'var_smoothing': 1e-09}"
      ]
     },
     "execution_count": 166,
     "metadata": {},
     "output_type": "execute_result"
    }
   ],
   "source": [
    "nb.get_params()"
   ]
  },
  {
   "cell_type": "code",
   "execution_count": 167,
   "metadata": {},
   "outputs": [
    {
     "name": "stdout",
     "output_type": "stream",
     "text": [
      "Fitting 15 folds for each of 100 candidates, totalling 1500 fits\n"
     ]
    },
    {
     "data": {
      "text/plain": [
       "GridSearchCV(cv=RepeatedStratifiedKFold(n_repeats=3, n_splits=5, random_state=999),\n",
       "             estimator=GaussianNB(),\n",
       "             param_grid={'var_smoothing': array([1.00000000e+00, 8.11130831e-01, 6.57933225e-01, 5.33669923e-01,\n",
       "       4.32876128e-01, 3.51119173e-01, 2.84803587e-01, 2.31012970e-01,\n",
       "       1.87381742e-01, 1.51991108e-01, 1.23284674e-01, 1.00000000e-01,\n",
       "       8.11130831e-02, 6.57933225e-02, 5...\n",
       "       1.23284674e-07, 1.00000000e-07, 8.11130831e-08, 6.57933225e-08,\n",
       "       5.33669923e-08, 4.32876128e-08, 3.51119173e-08, 2.84803587e-08,\n",
       "       2.31012970e-08, 1.87381742e-08, 1.51991108e-08, 1.23284674e-08,\n",
       "       1.00000000e-08, 8.11130831e-09, 6.57933225e-09, 5.33669923e-09,\n",
       "       4.32876128e-09, 3.51119173e-09, 2.84803587e-09, 2.31012970e-09,\n",
       "       1.87381742e-09, 1.51991108e-09, 1.23284674e-09, 1.00000000e-09])},\n",
       "             scoring='f1', verbose=1)"
      ]
     },
     "execution_count": 167,
     "metadata": {},
     "output_type": "execute_result"
    }
   ],
   "source": [
    "from sklearn.naive_bayes import GaussianNB\n",
    "\n",
    "np.random.seed(999)\n",
    "\n",
    "nb_classifier = GaussianNB()\n",
    "\n",
    "params_NB = {'var_smoothing': np.logspace(0,-9, num=100)}\n",
    "\n",
    "gs_NB = GridSearchCV(estimator=nb_classifier, \n",
    "                     param_grid=params_NB, \n",
    "                     cv=cv_method,\n",
    "                     verbose=1, \n",
    "                     scoring = 'f1')\n",
    "\n",
    "#Data_transformed = PowerTransformer().fit_transform(Data)\n",
    "\n",
    "gs_NB.fit(X_train, y_train)"
   ]
  },
  {
   "cell_type": "code",
   "execution_count": 70,
   "metadata": {},
   "outputs": [
    {
     "data": {
      "text/plain": [
       "<bound method BaseEstimator.get_params of GridSearchCV(cv=RepeatedStratifiedKFold(n_repeats=3, n_splits=5, random_state=999),\n",
       "             estimator=GaussianNB(),\n",
       "             param_grid={'var_smoothing': array([1.00000000e+00, 8.11130831e-01, 6.57933225e-01, 5.33669923e-01,\n",
       "       4.32876128e-01, 3.51119173e-01, 2.84803587e-01, 2.31012970e-01,\n",
       "       1.87381742e-01, 1.51991108e-01, 1.23284674e-01, 1.00000000e-01,\n",
       "       8.11130831e-02, 6.57933225e-02, 5...\n",
       "       1.23284674e-07, 1.00000000e-07, 8.11130831e-08, 6.57933225e-08,\n",
       "       5.33669923e-08, 4.32876128e-08, 3.51119173e-08, 2.84803587e-08,\n",
       "       2.31012970e-08, 1.87381742e-08, 1.51991108e-08, 1.23284674e-08,\n",
       "       1.00000000e-08, 8.11130831e-09, 6.57933225e-09, 5.33669923e-09,\n",
       "       4.32876128e-09, 3.51119173e-09, 2.84803587e-09, 2.31012970e-09,\n",
       "       1.87381742e-09, 1.51991108e-09, 1.23284674e-09, 1.00000000e-09])},\n",
       "             scoring=['accuracy'], verbose=1)>"
      ]
     },
     "execution_count": 70,
     "metadata": {},
     "output_type": "execute_result"
    }
   ],
   "source": [
    "gs_NB.get_params"
   ]
  },
  {
   "cell_type": "code",
   "execution_count": 100,
   "metadata": {},
   "outputs": [
    {
     "data": {
      "text/plain": [
       "{'var_smoothing': 1.0}"
      ]
     },
     "execution_count": 100,
     "metadata": {},
     "output_type": "execute_result"
    }
   ],
   "source": [
    "gs_NB.best_params_"
   ]
  },
  {
   "cell_type": "code",
   "execution_count": 168,
   "metadata": {},
   "outputs": [
    {
     "name": "stdout",
     "output_type": "stream",
     "text": [
      "Precision Score 0.9408 \n",
      "Recall Score 0.934 \n",
      "Accuracy Score 0.9004 \n",
      "f1-score 0.9374 \n",
      "AUC Score 0.8506\n"
     ]
    }
   ],
   "source": [
    "# Based on F1\n",
    "nb = GaussianNB(var_smoothing = 1.0)\n",
    "nb.fit(X_train, y_train)\n",
    "y_test_pred = nb.predict(X_test)\n",
    "y_train_pred = nb.predict(X_train)\n",
    "print('Precision Score', round(precision_score(y_test, y_test_pred),4),\n",
    "                                    '\\nRecall Score', round(recall_score(y_test, y_test_pred),4),\n",
    "                                    '\\nAccuracy Score', round(accuracy_score(y_test, y_test_pred),4),\n",
    "                                    '\\nf1-score', round(f1_score(y_test, y_test_pred),4),\n",
    "                                    '\\nAUC Score' , round(roc_auc_score(y_test, y_test_pred),4))"
   ]
  },
  {
   "cell_type": "code",
   "execution_count": 169,
   "metadata": {},
   "outputs": [
    {
     "name": "stdout",
     "output_type": "stream",
     "text": [
      "Precision Score 0.9441 \n",
      "Recall Score 0.9305 \n",
      "Accuracy Score 0.9005 \n",
      "f1-score 0.9372 \n",
      "AUC Score 0.856\n"
     ]
    }
   ],
   "source": [
    "print('Precision Score', round(precision_score(y_train, y_train_pred),4),\n",
    "                                    '\\nRecall Score', round(recall_score(y_train, y_train_pred),4),\n",
    "                                    '\\nAccuracy Score', round(accuracy_score(y_train, y_train_pred),4),\n",
    "                                    '\\nf1-score', round(f1_score(y_train, y_train_pred),4),\n",
    "                                    '\\nAUC Score' , round(roc_auc_score(y_train, y_train_pred),4))"
   ]
  },
  {
   "cell_type": "code",
   "execution_count": 170,
   "metadata": {},
   "outputs": [
    {
     "name": "stdout",
     "output_type": "stream",
     "text": [
      "Precision Score 0.9408 \n",
      "Recall Score 0.934 \n",
      "Accuracy Score 0.9004 \n",
      "f1-score 0.9374 \n",
      "AUC Score 0.8506\n"
     ]
    }
   ],
   "source": [
    "nb = GaussianNB(var_smoothing = 1.0)\n",
    "nb.fit(X_train, y_train)\n",
    "y_test_pred = nb.predict(X_test)\n",
    "y_train_pred = nb.predict(X_train)\n",
    "print('Precision Score', round(precision_score(y_test, y_test_pred),4),\n",
    "                                    '\\nRecall Score', round(recall_score(y_test, y_test_pred),4),\n",
    "                                    '\\nAccuracy Score', round(accuracy_score(y_test, y_test_pred),4),\n",
    "                                    '\\nf1-score', round(f1_score(y_test, y_test_pred),4),\n",
    "                                    '\\nAUC Score' , round(roc_auc_score(y_test, y_test_pred),4))"
   ]
  },
  {
   "cell_type": "code",
   "execution_count": 171,
   "metadata": {},
   "outputs": [
    {
     "name": "stdout",
     "output_type": "stream",
     "text": [
      "Precision Score 0.9441 \n",
      "Recall Score 0.9305 \n",
      "Accuracy Score 0.9005 \n",
      "f1-score 0.9372 \n",
      "AUC Score 0.856\n"
     ]
    }
   ],
   "source": [
    "print('Precision Score', round(precision_score(y_train, y_train_pred),4),\n",
    "                                    '\\nRecall Score', round(recall_score(y_train, y_train_pred),4),\n",
    "                                    '\\nAccuracy Score', round(accuracy_score(y_train, y_train_pred),4),\n",
    "                                    '\\nf1-score', round(f1_score(y_train, y_train_pred),4),\n",
    "                                    '\\nAUC Score' , round(roc_auc_score(y_train, y_train_pred),4))"
   ]
  },
  {
   "cell_type": "code",
   "execution_count": 182,
   "metadata": {},
   "outputs": [
    {
     "data": {
      "text/html": [
       "<div>\n",
       "<style scoped>\n",
       "    .dataframe tbody tr th:only-of-type {\n",
       "        vertical-align: middle;\n",
       "    }\n",
       "\n",
       "    .dataframe tbody tr th {\n",
       "        vertical-align: top;\n",
       "    }\n",
       "\n",
       "    .dataframe thead th {\n",
       "        text-align: right;\n",
       "    }\n",
       "</style>\n",
       "<table border=\"1\" class=\"dataframe\">\n",
       "  <thead>\n",
       "    <tr style=\"text-align: right;\">\n",
       "      <th></th>\n",
       "      <th>fpr</th>\n",
       "      <th>tpr</th>\n",
       "      <th>thres</th>\n",
       "    </tr>\n",
       "  </thead>\n",
       "  <tbody>\n",
       "    <tr>\n",
       "      <td>0</td>\n",
       "      <td>0.000000</td>\n",
       "      <td>0.000000</td>\n",
       "      <td>2</td>\n",
       "    </tr>\n",
       "    <tr>\n",
       "      <td>1</td>\n",
       "      <td>0.232877</td>\n",
       "      <td>0.934013</td>\n",
       "      <td>1</td>\n",
       "    </tr>\n",
       "    <tr>\n",
       "      <td>2</td>\n",
       "      <td>1.000000</td>\n",
       "      <td>1.000000</td>\n",
       "      <td>0</td>\n",
       "    </tr>\n",
       "  </tbody>\n",
       "</table>\n",
       "</div>"
      ],
      "text/plain": [
       "        fpr       tpr  thres\n",
       "0  0.000000  0.000000      2\n",
       "1  0.232877  0.934013      1\n",
       "2  1.000000  1.000000      0"
      ]
     },
     "execution_count": 182,
     "metadata": {},
     "output_type": "execute_result"
    }
   ],
   "source": [
    "from sklearn.metrics import plot_roc_curve,roc_curve\n",
    "y_pred = nb.predict_proba(X_test)\n",
    "fpr,tpr,thres = roc_curve(y_test,y_test_pred)\n",
    "thresholds = pd.DataFrame({'fpr':fpr,'tpr':tpr,'thres':thres})\n",
    "thresholds"
   ]
  },
  {
   "cell_type": "code",
   "execution_count": 185,
   "metadata": {},
   "outputs": [
    {
     "name": "stdout",
     "output_type": "stream",
     "text": [
      "              precision    recall  f1-score   support\n",
      "\n",
      "           0       0.75      0.77      0.76      1533\n",
      "           1       0.94      0.93      0.94      6077\n",
      "\n",
      "    accuracy                           0.90      7610\n",
      "   macro avg       0.84      0.85      0.85      7610\n",
      "weighted avg       0.90      0.90      0.90      7610\n",
      "\n"
     ]
    }
   ],
   "source": [
    "print(classification_report(y_test,y_test_pred))\n",
    "print(classification_report(y_train, y_train_pred))"
   ]
  },
  {
   "cell_type": "code",
   "execution_count": 186,
   "metadata": {},
   "outputs": [
    {
     "name": "stdout",
     "output_type": "stream",
     "text": [
      "              precision    recall  f1-score   support\n",
      "\n",
      "           0       0.74      0.78      0.76      3575\n",
      "           1       0.94      0.93      0.94     14180\n",
      "\n",
      "    accuracy                           0.90     17755\n",
      "   macro avg       0.84      0.86      0.85     17755\n",
      "weighted avg       0.90      0.90      0.90     17755\n",
      "\n"
     ]
    }
   ],
   "source": []
  },
  {
   "cell_type": "markdown",
   "metadata": {},
   "source": [
    "# Bagging Classifier with decision tree"
   ]
  },
  {
   "cell_type": "code",
   "execution_count": 91,
   "metadata": {},
   "outputs": [],
   "source": [
    "bg = BaggingClassifier()\n",
    "bg_model = bg.fit(X_train,y_train)\n",
    "pred = bg_model.predict(X_test)"
   ]
  },
  {
   "cell_type": "code",
   "execution_count": 93,
   "metadata": {},
   "outputs": [
    {
     "data": {
      "text/plain": [
       "{'base_estimator': None,\n",
       " 'bootstrap': True,\n",
       " 'bootstrap_features': False,\n",
       " 'max_features': 1.0,\n",
       " 'max_samples': 1.0,\n",
       " 'n_estimators': 10,\n",
       " 'n_jobs': None,\n",
       " 'oob_score': False,\n",
       " 'random_state': None,\n",
       " 'verbose': 0,\n",
       " 'warm_start': False}"
      ]
     },
     "execution_count": 93,
     "metadata": {},
     "output_type": "execute_result"
    }
   ],
   "source": [
    "bg.get_params()"
   ]
  },
  {
   "cell_type": "code",
   "execution_count": 95,
   "metadata": {},
   "outputs": [
    {
     "name": "stderr",
     "output_type": "stream",
     "text": [
      "[Parallel(n_jobs=1)]: Using backend SequentialBackend with 1 concurrent workers.\n",
      "[Parallel(n_jobs=1)]: Done  15 out of  15 | elapsed:   20.8s finished\n"
     ]
    }
   ],
   "source": [
    "\n",
    "cv_method = RepeatedStratifiedKFold(n_splits=5, \n",
    "                                    n_repeats=3, \n",
    "                                    random_state=999)\n",
    "\n",
    "from sklearn.model_selection import cross_validate\n",
    "pre_score = cross_validate(estimator = bg,\n",
    "                             X = X_train, \n",
    "                             y = y_train,\n",
    "                             scoring = ['accuracy','recall','roc_auc','precision','f1'],\n",
    "                             cv = cv_method,\n",
    "                             verbose = 1,\n",
    "                          return_train_score=True\n",
    "                          )"
   ]
  },
  {
   "cell_type": "code",
   "execution_count": 97,
   "metadata": {},
   "outputs": [
    {
     "name": "stdout",
     "output_type": "stream",
     "text": [
      "fit_time : 1.109\n",
      "score_time : 0.065\n",
      "test_accuracy : 0.961\n",
      "train_accuracy : 0.997\n",
      "test_recall : 0.98\n",
      "train_recall : 0.998\n",
      "test_roc_auc : 0.97\n",
      "train_roc_auc : 1.0\n",
      "test_precision : 0.972\n",
      "train_precision : 0.998\n",
      "test_f1 : 0.976\n",
      "train_f1 : 0.998\n"
     ]
    }
   ],
   "source": [
    "for k,v in pre_score.items():\n",
    "    print(k,':',round(np.mean(v),3))"
   ]
  },
  {
   "cell_type": "code",
   "execution_count": 143,
   "metadata": {},
   "outputs": [
    {
     "name": "stdout",
     "output_type": "stream",
     "text": [
      "Fitting 15 folds for each of 7 candidates, totalling 105 fits\n"
     ]
    },
    {
     "data": {
      "text/plain": [
       "GridSearchCV(cv=RepeatedStratifiedKFold(n_repeats=3, n_splits=5, random_state=999),\n",
       "             estimator=BaggingClassifier(),\n",
       "             param_grid={'max_features': range(1, 21, 3),\n",
       "                         'random_state': [100]},\n",
       "             scoring='accuracy', verbose=1)"
      ]
     },
     "execution_count": 143,
     "metadata": {},
     "output_type": "execute_result"
    }
   ],
   "source": [
    "bg = BaggingClassifier()\n",
    "\n",
    "params_bg = {\n",
    " 'max_features': range(1,21,3),\n",
    " #'max_samples': [1,2,3,4],\n",
    " #'n_estimators': [5,10],\n",
    "    'random_state':[100]\n",
    " }\n",
    "\n",
    "gs_bg = GridSearchCV(estimator=bg, \n",
    "                     param_grid=params_bg, \n",
    "                     cv=cv_method,\n",
    "                     verbose=1, \n",
    "                     scoring = 'accuracy')\n",
    "\n",
    "#Data_transformed = PowerTransformer().fit_transform(Data)\n",
    "\n",
    "gs_bg.fit(X_train, y_train)"
   ]
  },
  {
   "cell_type": "code",
   "execution_count": 144,
   "metadata": {},
   "outputs": [
    {
     "data": {
      "text/plain": [
       "{'max_features': 19, 'random_state': 100}"
      ]
     },
     "execution_count": 144,
     "metadata": {},
     "output_type": "execute_result"
    }
   ],
   "source": [
    "gs_bg.best_params_"
   ]
  },
  {
   "cell_type": "code",
   "execution_count": 145,
   "metadata": {},
   "outputs": [],
   "source": [
    "bg = BaggingClassifier(max_features= 19, random_state= 100)\n",
    "bg.fit(X_train, y_train)\n",
    "y_test_pred = nb.predict(X_test)\n",
    "y_train_pred = nb.predict(X_train)"
   ]
  },
  {
   "cell_type": "code",
   "execution_count": 146,
   "metadata": {},
   "outputs": [
    {
     "name": "stdout",
     "output_type": "stream",
     "text": [
      "Precision Score 0.9441 \n",
      "Recall Score 0.9305 \n",
      "Accuracy Score 0.9005 \n",
      "f1-score 0.9372 \n",
      "AUC Score 0.856\n"
     ]
    }
   ],
   "source": [
    "print('Precision Score', round(precision_score(y_train, y_train_pred),4),\n",
    "                                    '\\nRecall Score', round(recall_score(y_train, y_train_pred),4),\n",
    "                                    '\\nAccuracy Score', round(accuracy_score(y_train, y_train_pred),4),\n",
    "                                    '\\nf1-score', round(f1_score(y_train, y_train_pred),4),\n",
    "                                    '\\nAUC Score' , round(roc_auc_score(y_train, y_train_pred),4))"
   ]
  },
  {
   "cell_type": "code",
   "execution_count": 147,
   "metadata": {},
   "outputs": [
    {
     "name": "stdout",
     "output_type": "stream",
     "text": [
      "Precision Score 0.9408 \n",
      "Recall Score 0.934 \n",
      "Accuracy Score 0.9004 \n",
      "f1-score 0.9374 \n",
      "AUC Score 0.8506\n"
     ]
    }
   ],
   "source": [
    "print('Precision Score', round(precision_score(y_test, y_test_pred),4),\n",
    "                                    '\\nRecall Score', round(recall_score(y_test, y_test_pred),4),\n",
    "                                    '\\nAccuracy Score', round(accuracy_score(y_test, y_test_pred),4),\n",
    "                                    '\\nf1-score', round(f1_score(y_test, y_test_pred),4),\n",
    "                                    '\\nAUC Score' , round(roc_auc_score(y_test, y_test_pred),4))"
   ]
  },
  {
   "cell_type": "code",
   "execution_count": null,
   "metadata": {},
   "outputs": [],
   "source": []
  },
  {
   "cell_type": "markdown",
   "metadata": {},
   "source": [
    "# Bagging classifier with NB"
   ]
  },
  {
   "cell_type": "code",
   "execution_count": 187,
   "metadata": {},
   "outputs": [],
   "source": [
    "bg = BaggingClassifier()\n",
    "gnb = GaussianNB(var_smoothing = 1.0)\n",
    "\n",
    "bag_model=BaggingClassifier(base_estimator=gnb, n_estimators=10, bootstrap=True)\n",
    "bag_model=bag_model.fit(X_train,y_train)\n",
    "y_test_pred=bag_model.predict(X_test)\n",
    "y_train_pred = nb.predict(X_train)\n",
    "\n",
    "#Data_transformed = PowerTransformer().fit_transform(Data)\n",
    "\n",
    "#gs_bg.fit(X_train, y_train)"
   ]
  },
  {
   "cell_type": "code",
   "execution_count": 134,
   "metadata": {},
   "outputs": [
    {
     "data": {
      "text/plain": [
       "{'base_estimator': None,\n",
       " 'bootstrap': True,\n",
       " 'bootstrap_features': False,\n",
       " 'max_features': 1.0,\n",
       " 'max_samples': 1.0,\n",
       " 'n_estimators': 10,\n",
       " 'n_jobs': None,\n",
       " 'oob_score': False,\n",
       " 'random_state': None,\n",
       " 'verbose': 0,\n",
       " 'warm_start': False}"
      ]
     },
     "execution_count": 134,
     "metadata": {},
     "output_type": "execute_result"
    }
   ],
   "source": [
    "bg.get_params()"
   ]
  },
  {
   "cell_type": "code",
   "execution_count": 138,
   "metadata": {},
   "outputs": [
    {
     "name": "stdout",
     "output_type": "stream",
     "text": [
      "Precision Score 0.9441 \n",
      "Recall Score 0.9305 \n",
      "Accuracy Score 0.9005 \n",
      "f1-score 0.9372 \n",
      "AUC Score 0.856\n"
     ]
    }
   ],
   "source": [
    "print('Precision Score', round(precision_score(y_train, y_train_pred),4),\n",
    "                                    '\\nRecall Score', round(recall_score(y_train, y_train_pred),4),\n",
    "                                    '\\nAccuracy Score', round(accuracy_score(y_train, y_train_pred),4),\n",
    "                                    '\\nf1-score', round(f1_score(y_train, y_train_pred),4),\n",
    "                                    '\\nAUC Score' , round(roc_auc_score(y_train, y_train_pred),4))"
   ]
  },
  {
   "cell_type": "code",
   "execution_count": 139,
   "metadata": {},
   "outputs": [
    {
     "name": "stdout",
     "output_type": "stream",
     "text": [
      "Precision Score 0.9426 \n",
      "Recall Score 0.9319 \n",
      "Accuracy Score 0.9003 \n",
      "f1-score 0.9372 \n",
      "AUC Score 0.8534\n"
     ]
    }
   ],
   "source": [
    "print('Precision Score', round(precision_score(y_test, y_test_pred),4),\n",
    "                                    '\\nRecall Score', round(recall_score(y_test, y_test_pred),4),\n",
    "                                    '\\nAccuracy Score', round(accuracy_score(y_test, y_test_pred),4),\n",
    "                                    '\\nf1-score', round(f1_score(y_test, y_test_pred),4),\n",
    "                                    '\\nAUC Score' , round(roc_auc_score(y_test, y_test_pred),4))"
   ]
  },
  {
   "cell_type": "code",
   "execution_count": 188,
   "metadata": {},
   "outputs": [
    {
     "name": "stdout",
     "output_type": "stream",
     "text": [
      "              precision    recall  f1-score   support\n",
      "\n",
      "           0       0.74      0.78      0.76      1533\n",
      "           1       0.94      0.93      0.94      6077\n",
      "\n",
      "    accuracy                           0.90      7610\n",
      "   macro avg       0.84      0.85      0.85      7610\n",
      "weighted avg       0.90      0.90      0.90      7610\n",
      "\n",
      "              precision    recall  f1-score   support\n",
      "\n",
      "           0       0.74      0.78      0.76      3575\n",
      "           1       0.94      0.93      0.94     14180\n",
      "\n",
      "    accuracy                           0.90     17755\n",
      "   macro avg       0.84      0.86      0.85     17755\n",
      "weighted avg       0.90      0.90      0.90     17755\n",
      "\n"
     ]
    }
   ],
   "source": [
    "print(classification_report(y_test,y_test_pred))\n",
    "print(classification_report(y_train, y_train_pred))"
   ]
  },
  {
   "cell_type": "code",
   "execution_count": 140,
   "metadata": {},
   "outputs": [],
   "source": [
    "GaussianNB?"
   ]
  },
  {
   "cell_type": "code",
   "execution_count": 148,
   "metadata": {},
   "outputs": [],
   "source": [
    "GridSearchCV?"
   ]
  },
  {
   "cell_type": "code",
   "execution_count": 149,
   "metadata": {},
   "outputs": [],
   "source": [
    "param = {'learning_rate':[0.15,0.1,0.05,0.01,0.005,0.001], 'n_estimators':[100,250,500,750,1000,1250,1500,1750]}"
   ]
  },
  {
   "cell_type": "code",
   "execution_count": 152,
   "metadata": {},
   "outputs": [
    {
     "ename": "AttributeError",
     "evalue": "'GridSearchCV' object has no attribute 'grid_scores_'",
     "output_type": "error",
     "traceback": [
      "\u001b[1;31m---------------------------------------------------------------------------\u001b[0m",
      "\u001b[1;31mAttributeError\u001b[0m                            Traceback (most recent call last)",
      "\u001b[1;32m<ipython-input-152-b770f47d0e14>\u001b[0m in \u001b[0;36m<module>\u001b[1;34m\u001b[0m\n\u001b[0;32m      3\u001b[0m \u001b[0mgb_tuning\u001b[0m\u001b[1;33m.\u001b[0m\u001b[0mfit\u001b[0m\u001b[1;33m(\u001b[0m\u001b[0mX_train\u001b[0m\u001b[1;33m,\u001b[0m\u001b[0my_train\u001b[0m\u001b[1;33m)\u001b[0m\u001b[1;33m\u001b[0m\u001b[1;33m\u001b[0m\u001b[0m\n\u001b[0;32m      4\u001b[0m \u001b[1;33m\u001b[0m\u001b[0m\n\u001b[1;32m----> 5\u001b[1;33m \u001b[0mprint\u001b[0m\u001b[1;33m(\u001b[0m\u001b[1;34m\"accuracy after Hyperparameter tuning :\"\u001b[0m\u001b[1;33m,\u001b[0m\u001b[0mgb_tuning\u001b[0m\u001b[1;33m.\u001b[0m\u001b[0mgrid_scores_\u001b[0m\u001b[1;33m)\u001b[0m\u001b[1;33m,\u001b[0m\u001b[1;33m\u001b[0m\u001b[1;33m\u001b[0m\u001b[0m\n\u001b[0m\u001b[0;32m      6\u001b[0m \u001b[0mprint\u001b[0m\u001b[1;33m(\u001b[0m\u001b[1;34m\"tuned hyper-parameters :(best parameters) \"\u001b[0m\u001b[1;33m,\u001b[0m\u001b[0mgb_tuning\u001b[0m\u001b[1;33m.\u001b[0m\u001b[0mbest_params_\u001b[0m\u001b[1;33m)\u001b[0m\u001b[1;33m,\u001b[0m\u001b[1;33m\u001b[0m\u001b[1;33m\u001b[0m\u001b[0m\n\u001b[0;32m      7\u001b[0m \u001b[0mprint\u001b[0m\u001b[1;33m(\u001b[0m\u001b[1;34m\"Best Score :\"\u001b[0m\u001b[1;33m,\u001b[0m\u001b[0mgb_tuning\u001b[0m\u001b[1;33m.\u001b[0m\u001b[0mbest_score_\u001b[0m\u001b[1;33m)\u001b[0m\u001b[1;33m\u001b[0m\u001b[1;33m\u001b[0m\u001b[0m\n",
      "\u001b[1;31mAttributeError\u001b[0m: 'GridSearchCV' object has no attribute 'grid_scores_'"
     ]
    }
   ],
   "source": [
    "gb_tuning = GridSearchCV(estimator =GradientBoostingClassifier(max_depth=4, min_samples_split=2, min_samples_leaf=1, subsample=1,max_features='sqrt', random_state=10), \n",
    "            param_grid = param, scoring='accuracy',n_jobs=4, cv=5)\n",
    "gb_tuning.fit(X_train,y_train)\n",
    "\n",
    "print(\"accuracy after Hyperparameter tuning :\",gb_tuning.grid_scores_),\n",
    "print(\"tuned hyper-parameters :(best parameters) \",gb_tuning.best_params_), \n",
    "print(\"Best Score :\",gb_tuning.best_score_)"
   ]
  },
  {
   "cell_type": "code",
   "execution_count": 160,
   "metadata": {},
   "outputs": [
    {
     "data": {
      "text/plain": [
       "20"
      ]
     },
     "execution_count": 160,
     "metadata": {},
     "output_type": "execute_result"
    }
   ],
   "source": [
    "    gb_tuning.best_index_"
   ]
  },
  {
   "cell_type": "code",
   "execution_count": null,
   "metadata": {},
   "outputs": [],
   "source": []
  }
 ],
 "metadata": {
  "kernelspec": {
   "display_name": "Python 3",
   "language": "python",
   "name": "python3"
  },
  "language_info": {
   "codemirror_mode": {
    "name": "ipython",
    "version": 3
   },
   "file_extension": ".py",
   "mimetype": "text/x-python",
   "name": "python",
   "nbconvert_exporter": "python",
   "pygments_lexer": "ipython3",
   "version": "3.7.4"
  }
 },
 "nbformat": 4,
 "nbformat_minor": 2
}
