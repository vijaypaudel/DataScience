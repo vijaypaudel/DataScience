{
 "cells": [
  {
   "cell_type": "markdown",
   "metadata": {},
   "source": [
    "# Importing required libraries"
   ]
  },
  {
   "cell_type": "code",
   "execution_count": 1,
   "metadata": {},
   "outputs": [],
   "source": [
    "import pandas as pd\n",
    "import numpy as np\n",
    "import matplotlib.pyplot as plt\n",
    "import seaborn as sns\n",
    "import datetime as dt\n",
    "import math"
   ]
  },
  {
   "cell_type": "markdown",
   "metadata": {},
   "source": [
    "# Importing the data"
   ]
  },
  {
   "cell_type": "code",
   "execution_count": 2,
   "metadata": {},
   "outputs": [
    {
     "data": {
      "text/html": [
       "<div>\n",
       "<style scoped>\n",
       "    .dataframe tbody tr th:only-of-type {\n",
       "        vertical-align: middle;\n",
       "    }\n",
       "\n",
       "    .dataframe tbody tr th {\n",
       "        vertical-align: top;\n",
       "    }\n",
       "\n",
       "    .dataframe thead th {\n",
       "        text-align: right;\n",
       "    }\n",
       "</style>\n",
       "<table border=\"1\" class=\"dataframe\">\n",
       "  <thead>\n",
       "    <tr style=\"text-align: right;\">\n",
       "      <th></th>\n",
       "      <th>custid</th>\n",
       "      <th>retained</th>\n",
       "      <th>created</th>\n",
       "      <th>firstorder</th>\n",
       "      <th>lastorder</th>\n",
       "      <th>esent</th>\n",
       "      <th>eopenrate</th>\n",
       "      <th>eclickrate</th>\n",
       "      <th>avgorder</th>\n",
       "      <th>ordfreq</th>\n",
       "      <th>paperless</th>\n",
       "      <th>refill</th>\n",
       "      <th>doorstep</th>\n",
       "      <th>favday</th>\n",
       "      <th>city</th>\n",
       "    </tr>\n",
       "  </thead>\n",
       "  <tbody>\n",
       "    <tr>\n",
       "      <td>0</td>\n",
       "      <td>6H6T6N</td>\n",
       "      <td>0</td>\n",
       "      <td>28-09-2012</td>\n",
       "      <td>11-08-2013</td>\n",
       "      <td>11-08-2013</td>\n",
       "      <td>29</td>\n",
       "      <td>100.000000</td>\n",
       "      <td>3.448276</td>\n",
       "      <td>14.52</td>\n",
       "      <td>0.000000</td>\n",
       "      <td>0</td>\n",
       "      <td>0</td>\n",
       "      <td>0</td>\n",
       "      <td>Monday</td>\n",
       "      <td>DEL</td>\n",
       "    </tr>\n",
       "    <tr>\n",
       "      <td>1</td>\n",
       "      <td>APCENR</td>\n",
       "      <td>1</td>\n",
       "      <td>19-12-2010</td>\n",
       "      <td>01-04-2011</td>\n",
       "      <td>19-01-2014</td>\n",
       "      <td>95</td>\n",
       "      <td>92.631579</td>\n",
       "      <td>10.526316</td>\n",
       "      <td>83.69</td>\n",
       "      <td>0.181641</td>\n",
       "      <td>1</td>\n",
       "      <td>1</td>\n",
       "      <td>1</td>\n",
       "      <td>Friday</td>\n",
       "      <td>DEL</td>\n",
       "    </tr>\n",
       "    <tr>\n",
       "      <td>2</td>\n",
       "      <td>7UP6MS</td>\n",
       "      <td>0</td>\n",
       "      <td>03-10-2010</td>\n",
       "      <td>01-12-2010</td>\n",
       "      <td>06-07-2011</td>\n",
       "      <td>0</td>\n",
       "      <td>0.000000</td>\n",
       "      <td>0.000000</td>\n",
       "      <td>33.58</td>\n",
       "      <td>0.059908</td>\n",
       "      <td>0</td>\n",
       "      <td>0</td>\n",
       "      <td>0</td>\n",
       "      <td>Wednesday</td>\n",
       "      <td>DEL</td>\n",
       "    </tr>\n",
       "    <tr>\n",
       "      <td>3</td>\n",
       "      <td>7ZEW8G</td>\n",
       "      <td>0</td>\n",
       "      <td>22-10-2010</td>\n",
       "      <td>28-03-2011</td>\n",
       "      <td>28-03-2011</td>\n",
       "      <td>0</td>\n",
       "      <td>0.000000</td>\n",
       "      <td>0.000000</td>\n",
       "      <td>54.96</td>\n",
       "      <td>0.000000</td>\n",
       "      <td>0</td>\n",
       "      <td>0</td>\n",
       "      <td>0</td>\n",
       "      <td>Thursday</td>\n",
       "      <td>BOM</td>\n",
       "    </tr>\n",
       "    <tr>\n",
       "      <td>4</td>\n",
       "      <td>8V726M</td>\n",
       "      <td>1</td>\n",
       "      <td>27-11-2010</td>\n",
       "      <td>29-11-2010</td>\n",
       "      <td>28-01-2013</td>\n",
       "      <td>30</td>\n",
       "      <td>90.000000</td>\n",
       "      <td>13.333333</td>\n",
       "      <td>111.91</td>\n",
       "      <td>0.008850</td>\n",
       "      <td>0</td>\n",
       "      <td>0</td>\n",
       "      <td>0</td>\n",
       "      <td>Monday</td>\n",
       "      <td>BOM</td>\n",
       "    </tr>\n",
       "  </tbody>\n",
       "</table>\n",
       "</div>"
      ],
      "text/plain": [
       "   custid  retained     created  firstorder   lastorder  esent   eopenrate  \\\n",
       "0  6H6T6N         0  28-09-2012  11-08-2013  11-08-2013     29  100.000000   \n",
       "1  APCENR         1  19-12-2010  01-04-2011  19-01-2014     95   92.631579   \n",
       "2  7UP6MS         0  03-10-2010  01-12-2010  06-07-2011      0    0.000000   \n",
       "3  7ZEW8G         0  22-10-2010  28-03-2011  28-03-2011      0    0.000000   \n",
       "4  8V726M         1  27-11-2010  29-11-2010  28-01-2013     30   90.000000   \n",
       "\n",
       "   eclickrate  avgorder   ordfreq  paperless  refill  doorstep     favday city  \n",
       "0    3.448276     14.52  0.000000          0       0         0     Monday  DEL  \n",
       "1   10.526316     83.69  0.181641          1       1         1     Friday  DEL  \n",
       "2    0.000000     33.58  0.059908          0       0         0  Wednesday  DEL  \n",
       "3    0.000000     54.96  0.000000          0       0         0   Thursday  BOM  \n",
       "4   13.333333    111.91  0.008850          0       0         0     Monday  BOM  "
      ]
     },
     "execution_count": 2,
     "metadata": {},
     "output_type": "execute_result"
    }
   ],
   "source": [
    "df = pd.read_csv('storedata_total.csv')\n",
    "df.head()"
   ]
  },
  {
   "cell_type": "code",
   "execution_count": 3,
   "metadata": {},
   "outputs": [
    {
     "data": {
      "text/plain": [
       "(30801, 15)"
      ]
     },
     "execution_count": 3,
     "metadata": {},
     "output_type": "execute_result"
    }
   ],
   "source": [
    "df.shape"
   ]
  },
  {
   "cell_type": "code",
   "execution_count": 4,
   "metadata": {},
   "outputs": [
    {
     "data": {
      "text/plain": [
       "custid         object\n",
       "retained        int64\n",
       "created        object\n",
       "firstorder     object\n",
       "lastorder      object\n",
       "esent           int64\n",
       "eopenrate     float64\n",
       "eclickrate    float64\n",
       "avgorder      float64\n",
       "ordfreq       float64\n",
       "paperless       int64\n",
       "refill          int64\n",
       "doorstep        int64\n",
       "favday         object\n",
       "city           object\n",
       "dtype: object"
      ]
     },
     "execution_count": 4,
     "metadata": {},
     "output_type": "execute_result"
    }
   ],
   "source": [
    "df.dtypes"
   ]
  },
  {
   "cell_type": "code",
   "execution_count": 5,
   "metadata": {},
   "outputs": [
    {
     "name": "stdout",
     "output_type": "stream",
     "text": [
      "<class 'pandas.core.frame.DataFrame'>\n",
      "RangeIndex: 30801 entries, 0 to 30800\n",
      "Data columns (total 15 columns):\n",
      "custid        30781 non-null object\n",
      "retained      30801 non-null int64\n",
      "created       30781 non-null object\n",
      "firstorder    30781 non-null object\n",
      "lastorder     30781 non-null object\n",
      "esent         30801 non-null int64\n",
      "eopenrate     30801 non-null float64\n",
      "eclickrate    30801 non-null float64\n",
      "avgorder      30801 non-null float64\n",
      "ordfreq       30801 non-null float64\n",
      "paperless     30801 non-null int64\n",
      "refill        30801 non-null int64\n",
      "doorstep      30801 non-null int64\n",
      "favday        30801 non-null object\n",
      "city          30801 non-null object\n",
      "dtypes: float64(4), int64(5), object(6)\n",
      "memory usage: 3.5+ MB\n"
     ]
    }
   ],
   "source": [
    "df.info()"
   ]
  },
  {
   "cell_type": "code",
   "execution_count": 6,
   "metadata": {},
   "outputs": [
    {
     "data": {
      "text/html": [
       "<div>\n",
       "<style scoped>\n",
       "    .dataframe tbody tr th:only-of-type {\n",
       "        vertical-align: middle;\n",
       "    }\n",
       "\n",
       "    .dataframe tbody tr th {\n",
       "        vertical-align: top;\n",
       "    }\n",
       "\n",
       "    .dataframe thead th {\n",
       "        text-align: right;\n",
       "    }\n",
       "</style>\n",
       "<table border=\"1\" class=\"dataframe\">\n",
       "  <thead>\n",
       "    <tr style=\"text-align: right;\">\n",
       "      <th></th>\n",
       "      <th>retained</th>\n",
       "      <th>esent</th>\n",
       "      <th>eopenrate</th>\n",
       "      <th>eclickrate</th>\n",
       "      <th>avgorder</th>\n",
       "      <th>ordfreq</th>\n",
       "      <th>paperless</th>\n",
       "      <th>refill</th>\n",
       "      <th>doorstep</th>\n",
       "    </tr>\n",
       "  </thead>\n",
       "  <tbody>\n",
       "    <tr>\n",
       "      <td>count</td>\n",
       "      <td>30801.000000</td>\n",
       "      <td>30801.000000</td>\n",
       "      <td>30801.000000</td>\n",
       "      <td>30801.000000</td>\n",
       "      <td>30801.000000</td>\n",
       "      <td>30801.000000</td>\n",
       "      <td>30801.000000</td>\n",
       "      <td>30801.000000</td>\n",
       "      <td>30801.000000</td>\n",
       "    </tr>\n",
       "    <tr>\n",
       "      <td>mean</td>\n",
       "      <td>0.794520</td>\n",
       "      <td>28.138405</td>\n",
       "      <td>25.554838</td>\n",
       "      <td>5.671139</td>\n",
       "      <td>61.873944</td>\n",
       "      <td>0.037729</td>\n",
       "      <td>0.649037</td>\n",
       "      <td>0.095094</td>\n",
       "      <td>0.038895</td>\n",
       "    </tr>\n",
       "    <tr>\n",
       "      <td>std</td>\n",
       "      <td>0.404059</td>\n",
       "      <td>16.751380</td>\n",
       "      <td>29.557106</td>\n",
       "      <td>10.561704</td>\n",
       "      <td>41.007588</td>\n",
       "      <td>0.103932</td>\n",
       "      <td>0.477279</td>\n",
       "      <td>0.293350</td>\n",
       "      <td>0.193347</td>\n",
       "    </tr>\n",
       "    <tr>\n",
       "      <td>min</td>\n",
       "      <td>0.000000</td>\n",
       "      <td>0.000000</td>\n",
       "      <td>0.000000</td>\n",
       "      <td>0.000000</td>\n",
       "      <td>0.000000</td>\n",
       "      <td>0.000000</td>\n",
       "      <td>0.000000</td>\n",
       "      <td>0.000000</td>\n",
       "      <td>0.000000</td>\n",
       "    </tr>\n",
       "    <tr>\n",
       "      <td>25%</td>\n",
       "      <td>1.000000</td>\n",
       "      <td>16.000000</td>\n",
       "      <td>2.040816</td>\n",
       "      <td>0.000000</td>\n",
       "      <td>40.020000</td>\n",
       "      <td>0.000000</td>\n",
       "      <td>0.000000</td>\n",
       "      <td>0.000000</td>\n",
       "      <td>0.000000</td>\n",
       "    </tr>\n",
       "    <tr>\n",
       "      <td>50%</td>\n",
       "      <td>1.000000</td>\n",
       "      <td>32.000000</td>\n",
       "      <td>13.207547</td>\n",
       "      <td>0.000000</td>\n",
       "      <td>50.970000</td>\n",
       "      <td>0.000000</td>\n",
       "      <td>1.000000</td>\n",
       "      <td>0.000000</td>\n",
       "      <td>0.000000</td>\n",
       "    </tr>\n",
       "    <tr>\n",
       "      <td>75%</td>\n",
       "      <td>1.000000</td>\n",
       "      <td>42.000000</td>\n",
       "      <td>40.000000</td>\n",
       "      <td>7.142857</td>\n",
       "      <td>74.280000</td>\n",
       "      <td>0.040816</td>\n",
       "      <td>1.000000</td>\n",
       "      <td>0.000000</td>\n",
       "      <td>0.000000</td>\n",
       "    </tr>\n",
       "    <tr>\n",
       "      <td>max</td>\n",
       "      <td>1.000000</td>\n",
       "      <td>291.000000</td>\n",
       "      <td>100.000000</td>\n",
       "      <td>100.000000</td>\n",
       "      <td>2600.140000</td>\n",
       "      <td>3.250000</td>\n",
       "      <td>1.000000</td>\n",
       "      <td>1.000000</td>\n",
       "      <td>1.000000</td>\n",
       "    </tr>\n",
       "  </tbody>\n",
       "</table>\n",
       "</div>"
      ],
      "text/plain": [
       "           retained         esent     eopenrate    eclickrate      avgorder  \\\n",
       "count  30801.000000  30801.000000  30801.000000  30801.000000  30801.000000   \n",
       "mean       0.794520     28.138405     25.554838      5.671139     61.873944   \n",
       "std        0.404059     16.751380     29.557106     10.561704     41.007588   \n",
       "min        0.000000      0.000000      0.000000      0.000000      0.000000   \n",
       "25%        1.000000     16.000000      2.040816      0.000000     40.020000   \n",
       "50%        1.000000     32.000000     13.207547      0.000000     50.970000   \n",
       "75%        1.000000     42.000000     40.000000      7.142857     74.280000   \n",
       "max        1.000000    291.000000    100.000000    100.000000   2600.140000   \n",
       "\n",
       "            ordfreq     paperless        refill      doorstep  \n",
       "count  30801.000000  30801.000000  30801.000000  30801.000000  \n",
       "mean       0.037729      0.649037      0.095094      0.038895  \n",
       "std        0.103932      0.477279      0.293350      0.193347  \n",
       "min        0.000000      0.000000      0.000000      0.000000  \n",
       "25%        0.000000      0.000000      0.000000      0.000000  \n",
       "50%        0.000000      1.000000      0.000000      0.000000  \n",
       "75%        0.040816      1.000000      0.000000      0.000000  \n",
       "max        3.250000      1.000000      1.000000      1.000000  "
      ]
     },
     "execution_count": 6,
     "metadata": {},
     "output_type": "execute_result"
    }
   ],
   "source": [
    "df.describe(include=np.number)"
   ]
  },
  {
   "cell_type": "code",
   "execution_count": 7,
   "metadata": {},
   "outputs": [
    {
     "data": {
      "text/html": [
       "<div>\n",
       "<style scoped>\n",
       "    .dataframe tbody tr th:only-of-type {\n",
       "        vertical-align: middle;\n",
       "    }\n",
       "\n",
       "    .dataframe tbody tr th {\n",
       "        vertical-align: top;\n",
       "    }\n",
       "\n",
       "    .dataframe thead th {\n",
       "        text-align: right;\n",
       "    }\n",
       "</style>\n",
       "<table border=\"1\" class=\"dataframe\">\n",
       "  <thead>\n",
       "    <tr style=\"text-align: right;\">\n",
       "      <th></th>\n",
       "      <th>custid</th>\n",
       "      <th>created</th>\n",
       "      <th>firstorder</th>\n",
       "      <th>lastorder</th>\n",
       "      <th>favday</th>\n",
       "      <th>city</th>\n",
       "    </tr>\n",
       "  </thead>\n",
       "  <tbody>\n",
       "    <tr>\n",
       "      <td>count</td>\n",
       "      <td>30781</td>\n",
       "      <td>30781</td>\n",
       "      <td>30781</td>\n",
       "      <td>30781</td>\n",
       "      <td>30801</td>\n",
       "      <td>30801</td>\n",
       "    </tr>\n",
       "    <tr>\n",
       "      <td>unique</td>\n",
       "      <td>30769</td>\n",
       "      <td>2821</td>\n",
       "      <td>2672</td>\n",
       "      <td>2414</td>\n",
       "      <td>7</td>\n",
       "      <td>4</td>\n",
       "    </tr>\n",
       "    <tr>\n",
       "      <td>top</td>\n",
       "      <td>GAWC5Y</td>\n",
       "      <td>28-08-2012</td>\n",
       "      <td>17-09-2013</td>\n",
       "      <td>13-01-2014</td>\n",
       "      <td>Monday</td>\n",
       "      <td>BOM</td>\n",
       "    </tr>\n",
       "    <tr>\n",
       "      <td>freq</td>\n",
       "      <td>2</td>\n",
       "      <td>928</td>\n",
       "      <td>197</td>\n",
       "      <td>339</td>\n",
       "      <td>6762</td>\n",
       "      <td>11566</td>\n",
       "    </tr>\n",
       "  </tbody>\n",
       "</table>\n",
       "</div>"
      ],
      "text/plain": [
       "        custid     created  firstorder   lastorder  favday   city\n",
       "count    30781       30781       30781       30781   30801  30801\n",
       "unique   30769        2821        2672        2414       7      4\n",
       "top     GAWC5Y  28-08-2012  17-09-2013  13-01-2014  Monday    BOM\n",
       "freq         2         928         197         339    6762  11566"
      ]
     },
     "execution_count": 7,
     "metadata": {},
     "output_type": "execute_result"
    }
   ],
   "source": [
    "df.describe(include='O')"
   ]
  },
  {
   "cell_type": "code",
   "execution_count": 8,
   "metadata": {},
   "outputs": [
    {
     "data": {
      "text/html": [
       "<div>\n",
       "<style scoped>\n",
       "    .dataframe tbody tr th:only-of-type {\n",
       "        vertical-align: middle;\n",
       "    }\n",
       "\n",
       "    .dataframe tbody tr th {\n",
       "        vertical-align: top;\n",
       "    }\n",
       "\n",
       "    .dataframe thead th {\n",
       "        text-align: right;\n",
       "    }\n",
       "</style>\n",
       "<table border=\"1\" class=\"dataframe\">\n",
       "  <thead>\n",
       "    <tr style=\"text-align: right;\">\n",
       "      <th></th>\n",
       "      <th>custid</th>\n",
       "      <th>retained</th>\n",
       "      <th>created</th>\n",
       "      <th>firstorder</th>\n",
       "      <th>lastorder</th>\n",
       "      <th>esent</th>\n",
       "      <th>eopenrate</th>\n",
       "      <th>eclickrate</th>\n",
       "      <th>avgorder</th>\n",
       "      <th>ordfreq</th>\n",
       "      <th>paperless</th>\n",
       "      <th>refill</th>\n",
       "      <th>doorstep</th>\n",
       "      <th>favday</th>\n",
       "      <th>city</th>\n",
       "    </tr>\n",
       "  </thead>\n",
       "  <tbody>\n",
       "    <tr>\n",
       "      <td>count</td>\n",
       "      <td>30781</td>\n",
       "      <td>30801.000000</td>\n",
       "      <td>30781</td>\n",
       "      <td>30781</td>\n",
       "      <td>30781</td>\n",
       "      <td>30801.000000</td>\n",
       "      <td>30801.000000</td>\n",
       "      <td>30801.000000</td>\n",
       "      <td>30801.000000</td>\n",
       "      <td>30801.000000</td>\n",
       "      <td>30801.000000</td>\n",
       "      <td>30801.000000</td>\n",
       "      <td>30801.000000</td>\n",
       "      <td>30801</td>\n",
       "      <td>30801</td>\n",
       "    </tr>\n",
       "    <tr>\n",
       "      <td>unique</td>\n",
       "      <td>30769</td>\n",
       "      <td>NaN</td>\n",
       "      <td>2821</td>\n",
       "      <td>2672</td>\n",
       "      <td>2414</td>\n",
       "      <td>NaN</td>\n",
       "      <td>NaN</td>\n",
       "      <td>NaN</td>\n",
       "      <td>NaN</td>\n",
       "      <td>NaN</td>\n",
       "      <td>NaN</td>\n",
       "      <td>NaN</td>\n",
       "      <td>NaN</td>\n",
       "      <td>7</td>\n",
       "      <td>4</td>\n",
       "    </tr>\n",
       "    <tr>\n",
       "      <td>top</td>\n",
       "      <td>GAWC5Y</td>\n",
       "      <td>NaN</td>\n",
       "      <td>28-08-2012</td>\n",
       "      <td>17-09-2013</td>\n",
       "      <td>13-01-2014</td>\n",
       "      <td>NaN</td>\n",
       "      <td>NaN</td>\n",
       "      <td>NaN</td>\n",
       "      <td>NaN</td>\n",
       "      <td>NaN</td>\n",
       "      <td>NaN</td>\n",
       "      <td>NaN</td>\n",
       "      <td>NaN</td>\n",
       "      <td>Monday</td>\n",
       "      <td>BOM</td>\n",
       "    </tr>\n",
       "    <tr>\n",
       "      <td>freq</td>\n",
       "      <td>2</td>\n",
       "      <td>NaN</td>\n",
       "      <td>928</td>\n",
       "      <td>197</td>\n",
       "      <td>339</td>\n",
       "      <td>NaN</td>\n",
       "      <td>NaN</td>\n",
       "      <td>NaN</td>\n",
       "      <td>NaN</td>\n",
       "      <td>NaN</td>\n",
       "      <td>NaN</td>\n",
       "      <td>NaN</td>\n",
       "      <td>NaN</td>\n",
       "      <td>6762</td>\n",
       "      <td>11566</td>\n",
       "    </tr>\n",
       "    <tr>\n",
       "      <td>mean</td>\n",
       "      <td>NaN</td>\n",
       "      <td>0.794520</td>\n",
       "      <td>NaN</td>\n",
       "      <td>NaN</td>\n",
       "      <td>NaN</td>\n",
       "      <td>28.138405</td>\n",
       "      <td>25.554838</td>\n",
       "      <td>5.671139</td>\n",
       "      <td>61.873944</td>\n",
       "      <td>0.037729</td>\n",
       "      <td>0.649037</td>\n",
       "      <td>0.095094</td>\n",
       "      <td>0.038895</td>\n",
       "      <td>NaN</td>\n",
       "      <td>NaN</td>\n",
       "    </tr>\n",
       "    <tr>\n",
       "      <td>std</td>\n",
       "      <td>NaN</td>\n",
       "      <td>0.404059</td>\n",
       "      <td>NaN</td>\n",
       "      <td>NaN</td>\n",
       "      <td>NaN</td>\n",
       "      <td>16.751380</td>\n",
       "      <td>29.557106</td>\n",
       "      <td>10.561704</td>\n",
       "      <td>41.007588</td>\n",
       "      <td>0.103932</td>\n",
       "      <td>0.477279</td>\n",
       "      <td>0.293350</td>\n",
       "      <td>0.193347</td>\n",
       "      <td>NaN</td>\n",
       "      <td>NaN</td>\n",
       "    </tr>\n",
       "    <tr>\n",
       "      <td>min</td>\n",
       "      <td>NaN</td>\n",
       "      <td>0.000000</td>\n",
       "      <td>NaN</td>\n",
       "      <td>NaN</td>\n",
       "      <td>NaN</td>\n",
       "      <td>0.000000</td>\n",
       "      <td>0.000000</td>\n",
       "      <td>0.000000</td>\n",
       "      <td>0.000000</td>\n",
       "      <td>0.000000</td>\n",
       "      <td>0.000000</td>\n",
       "      <td>0.000000</td>\n",
       "      <td>0.000000</td>\n",
       "      <td>NaN</td>\n",
       "      <td>NaN</td>\n",
       "    </tr>\n",
       "    <tr>\n",
       "      <td>25%</td>\n",
       "      <td>NaN</td>\n",
       "      <td>1.000000</td>\n",
       "      <td>NaN</td>\n",
       "      <td>NaN</td>\n",
       "      <td>NaN</td>\n",
       "      <td>16.000000</td>\n",
       "      <td>2.040816</td>\n",
       "      <td>0.000000</td>\n",
       "      <td>40.020000</td>\n",
       "      <td>0.000000</td>\n",
       "      <td>0.000000</td>\n",
       "      <td>0.000000</td>\n",
       "      <td>0.000000</td>\n",
       "      <td>NaN</td>\n",
       "      <td>NaN</td>\n",
       "    </tr>\n",
       "    <tr>\n",
       "      <td>50%</td>\n",
       "      <td>NaN</td>\n",
       "      <td>1.000000</td>\n",
       "      <td>NaN</td>\n",
       "      <td>NaN</td>\n",
       "      <td>NaN</td>\n",
       "      <td>32.000000</td>\n",
       "      <td>13.207547</td>\n",
       "      <td>0.000000</td>\n",
       "      <td>50.970000</td>\n",
       "      <td>0.000000</td>\n",
       "      <td>1.000000</td>\n",
       "      <td>0.000000</td>\n",
       "      <td>0.000000</td>\n",
       "      <td>NaN</td>\n",
       "      <td>NaN</td>\n",
       "    </tr>\n",
       "    <tr>\n",
       "      <td>75%</td>\n",
       "      <td>NaN</td>\n",
       "      <td>1.000000</td>\n",
       "      <td>NaN</td>\n",
       "      <td>NaN</td>\n",
       "      <td>NaN</td>\n",
       "      <td>42.000000</td>\n",
       "      <td>40.000000</td>\n",
       "      <td>7.142857</td>\n",
       "      <td>74.280000</td>\n",
       "      <td>0.040816</td>\n",
       "      <td>1.000000</td>\n",
       "      <td>0.000000</td>\n",
       "      <td>0.000000</td>\n",
       "      <td>NaN</td>\n",
       "      <td>NaN</td>\n",
       "    </tr>\n",
       "    <tr>\n",
       "      <td>max</td>\n",
       "      <td>NaN</td>\n",
       "      <td>1.000000</td>\n",
       "      <td>NaN</td>\n",
       "      <td>NaN</td>\n",
       "      <td>NaN</td>\n",
       "      <td>291.000000</td>\n",
       "      <td>100.000000</td>\n",
       "      <td>100.000000</td>\n",
       "      <td>2600.140000</td>\n",
       "      <td>3.250000</td>\n",
       "      <td>1.000000</td>\n",
       "      <td>1.000000</td>\n",
       "      <td>1.000000</td>\n",
       "      <td>NaN</td>\n",
       "      <td>NaN</td>\n",
       "    </tr>\n",
       "  </tbody>\n",
       "</table>\n",
       "</div>"
      ],
      "text/plain": [
       "        custid      retained     created  firstorder   lastorder  \\\n",
       "count    30781  30801.000000       30781       30781       30781   \n",
       "unique   30769           NaN        2821        2672        2414   \n",
       "top     GAWC5Y           NaN  28-08-2012  17-09-2013  13-01-2014   \n",
       "freq         2           NaN         928         197         339   \n",
       "mean       NaN      0.794520         NaN         NaN         NaN   \n",
       "std        NaN      0.404059         NaN         NaN         NaN   \n",
       "min        NaN      0.000000         NaN         NaN         NaN   \n",
       "25%        NaN      1.000000         NaN         NaN         NaN   \n",
       "50%        NaN      1.000000         NaN         NaN         NaN   \n",
       "75%        NaN      1.000000         NaN         NaN         NaN   \n",
       "max        NaN      1.000000         NaN         NaN         NaN   \n",
       "\n",
       "               esent     eopenrate    eclickrate      avgorder       ordfreq  \\\n",
       "count   30801.000000  30801.000000  30801.000000  30801.000000  30801.000000   \n",
       "unique           NaN           NaN           NaN           NaN           NaN   \n",
       "top              NaN           NaN           NaN           NaN           NaN   \n",
       "freq             NaN           NaN           NaN           NaN           NaN   \n",
       "mean       28.138405     25.554838      5.671139     61.873944      0.037729   \n",
       "std        16.751380     29.557106     10.561704     41.007588      0.103932   \n",
       "min         0.000000      0.000000      0.000000      0.000000      0.000000   \n",
       "25%        16.000000      2.040816      0.000000     40.020000      0.000000   \n",
       "50%        32.000000     13.207547      0.000000     50.970000      0.000000   \n",
       "75%        42.000000     40.000000      7.142857     74.280000      0.040816   \n",
       "max       291.000000    100.000000    100.000000   2600.140000      3.250000   \n",
       "\n",
       "           paperless        refill      doorstep  favday   city  \n",
       "count   30801.000000  30801.000000  30801.000000   30801  30801  \n",
       "unique           NaN           NaN           NaN       7      4  \n",
       "top              NaN           NaN           NaN  Monday    BOM  \n",
       "freq             NaN           NaN           NaN    6762  11566  \n",
       "mean        0.649037      0.095094      0.038895     NaN    NaN  \n",
       "std         0.477279      0.293350      0.193347     NaN    NaN  \n",
       "min         0.000000      0.000000      0.000000     NaN    NaN  \n",
       "25%         0.000000      0.000000      0.000000     NaN    NaN  \n",
       "50%         1.000000      0.000000      0.000000     NaN    NaN  \n",
       "75%         1.000000      0.000000      0.000000     NaN    NaN  \n",
       "max         1.000000      1.000000      1.000000     NaN    NaN  "
      ]
     },
     "execution_count": 8,
     "metadata": {},
     "output_type": "execute_result"
    }
   ],
   "source": [
    "df.describe(include='all')"
   ]
  },
  {
   "cell_type": "markdown",
   "metadata": {},
   "source": [
    "# Missing Value Imputation"
   ]
  },
  {
   "cell_type": "code",
   "execution_count": 9,
   "metadata": {},
   "outputs": [
    {
     "data": {
      "text/plain": [
       "custid        20\n",
       "retained       0\n",
       "created       20\n",
       "firstorder    20\n",
       "lastorder     20\n",
       "esent          0\n",
       "eopenrate      0\n",
       "eclickrate     0\n",
       "avgorder       0\n",
       "ordfreq        0\n",
       "paperless      0\n",
       "refill         0\n",
       "doorstep       0\n",
       "favday         0\n",
       "city           0\n",
       "dtype: int64"
      ]
     },
     "execution_count": 9,
     "metadata": {},
     "output_type": "execute_result"
    }
   ],
   "source": [
    "df.isnull().sum()"
   ]
  },
  {
   "cell_type": "code",
   "execution_count": 10,
   "metadata": {},
   "outputs": [
    {
     "data": {
      "text/plain": [
       "custid        0.06\n",
       "retained      0.00\n",
       "created       0.06\n",
       "firstorder    0.06\n",
       "lastorder     0.06\n",
       "esent         0.00\n",
       "eopenrate     0.00\n",
       "eclickrate    0.00\n",
       "avgorder      0.00\n",
       "ordfreq       0.00\n",
       "paperless     0.00\n",
       "refill        0.00\n",
       "doorstep      0.00\n",
       "favday        0.00\n",
       "city          0.00\n",
       "dtype: float64"
      ]
     },
     "execution_count": 10,
     "metadata": {},
     "output_type": "execute_result"
    }
   ],
   "source": [
    "round(df.isnull().sum()/len(df)*100 ,2)"
   ]
  },
  {
   "cell_type": "code",
   "execution_count": 11,
   "metadata": {},
   "outputs": [],
   "source": [
    "df1 = df.copy()\n",
    "df1.dropna(inplace=True)\n",
    "df1.reset_index(drop=True,inplace=True)"
   ]
  },
  {
   "cell_type": "code",
   "execution_count": 12,
   "metadata": {},
   "outputs": [
    {
     "data": {
      "text/plain": [
       "(30781, 15)"
      ]
     },
     "execution_count": 12,
     "metadata": {},
     "output_type": "execute_result"
    }
   ],
   "source": [
    "df1.shape"
   ]
  },
  {
   "cell_type": "markdown",
   "metadata": {},
   "source": [
    "# Handling non-standard data and Data type Conversions"
   ]
  },
  {
   "cell_type": "code",
   "execution_count": 13,
   "metadata": {},
   "outputs": [
    {
     "data": {
      "text/plain": [
       "custid         object\n",
       "retained        int64\n",
       "created        object\n",
       "firstorder     object\n",
       "lastorder      object\n",
       "esent           int64\n",
       "eopenrate     float64\n",
       "eclickrate    float64\n",
       "avgorder      float64\n",
       "ordfreq       float64\n",
       "paperless       int64\n",
       "refill          int64\n",
       "doorstep        int64\n",
       "favday         object\n",
       "city           object\n",
       "dtype: object"
      ]
     },
     "execution_count": 13,
     "metadata": {},
     "output_type": "execute_result"
    }
   ],
   "source": [
    "df1.dtypes"
   ]
  },
  {
   "cell_type": "markdown",
   "metadata": {},
   "source": [
    "#### From the above cell, it is seen that the columns created, firstorder and lastorder are supposed to be date columns. Also, there are some date values which are out of range like 1/0/00 in the columns firstorder and lastorder. All these non-standard data are dropped"
   ]
  },
  {
   "cell_type": "code",
   "execution_count": 14,
   "metadata": {},
   "outputs": [
    {
     "data": {
      "text/plain": [
       "(30758, 15)"
      ]
     },
     "execution_count": 14,
     "metadata": {},
     "output_type": "execute_result"
    }
   ],
   "source": [
    "non_ms_values = df1[(df1['firstorder']=='1/0/00') | (df1['lastorder']=='1/0/00')].index\n",
    "df2 = df1.drop(non_ms_values)\n",
    "df2.reset_index(drop=True,inplace=True)\n",
    "# shape of our dataset after dropping the non-standard data\n",
    "df2.shape"
   ]
  },
  {
   "cell_type": "markdown",
   "metadata": {},
   "source": [
    "#### Converting datatype of the columns 'created', 'firstorder' and 'lastorder' to datetime format"
   ]
  },
  {
   "cell_type": "code",
   "execution_count": 15,
   "metadata": {},
   "outputs": [],
   "source": [
    "# converting the columns to datetime format\n",
    "df2['created'] = df2['created'].apply(lambda x: pd.to_datetime(str(x)))\n",
    "df2['firstorder'] = df2['firstorder'].apply(lambda x: pd.to_datetime(str(x)))\n",
    "df2['lastorder'] = df2['lastorder'].apply(lambda x: pd.to_datetime(str(x)))"
   ]
  },
  {
   "cell_type": "code",
   "execution_count": 16,
   "metadata": {},
   "outputs": [
    {
     "data": {
      "text/plain": [
       "custid                object\n",
       "retained               int64\n",
       "created       datetime64[ns]\n",
       "firstorder    datetime64[ns]\n",
       "lastorder     datetime64[ns]\n",
       "esent                  int64\n",
       "eopenrate            float64\n",
       "eclickrate           float64\n",
       "avgorder             float64\n",
       "ordfreq              float64\n",
       "paperless              int64\n",
       "refill                 int64\n",
       "doorstep               int64\n",
       "favday                object\n",
       "city                  object\n",
       "dtype: object"
      ]
     },
     "execution_count": 16,
     "metadata": {},
     "output_type": "execute_result"
    }
   ],
   "source": [
    "df2.dtypes"
   ]
  },
  {
   "cell_type": "code",
   "execution_count": 17,
   "metadata": {},
   "outputs": [
    {
     "name": "stdout",
     "output_type": "stream",
     "text": [
      "[2013 2011 2010 2012 2009 2008 2014 2015 2017 2016 2018 1904]\n",
      "[2013 2014 2011 2010 2012 2009 2008 2017 2018 2015 2016 1904]\n"
     ]
    }
   ],
   "source": [
    "print(df2['firstorder'].dt.year.unique())\n",
    "print(df2['lastorder'].dt.year.unique())"
   ]
  },
  {
   "cell_type": "markdown",
   "metadata": {},
   "source": [
    "#### The range of years is supposed to be 2008 to 2018. But we have dates which are of year 1904. So we'll drop the rows which has dates in year 1904"
   ]
  },
  {
   "cell_type": "code",
   "execution_count": 18,
   "metadata": {},
   "outputs": [
    {
     "name": "stdout",
     "output_type": "stream",
     "text": [
      "(30747, 15)\n"
     ]
    }
   ],
   "source": [
    "drop_index = df2[(df2['firstorder'].dt.year==1904) | (df2['lastorder'].dt.year==1904)].index\n",
    "df2.drop(drop_index,axis=0,inplace=True)\n",
    "df2.reset_index(drop=True,inplace=True)\n",
    "print(df2.shape)"
   ]
  },
  {
   "cell_type": "code",
   "execution_count": 19,
   "metadata": {},
   "outputs": [
    {
     "data": {
      "text/plain": [
       "ZA6HL8    2\n",
       "VHRL89    2\n",
       "N2JL9X    2\n",
       "3TXFZX    2\n",
       "EQTCV3    2\n",
       "XW9FJZ    2\n",
       "Name: custid, dtype: int64"
      ]
     },
     "execution_count": 19,
     "metadata": {},
     "output_type": "execute_result"
    }
   ],
   "source": [
    "# duplicate values in custid\n",
    "df2['custid'].value_counts()[df2['custid'].value_counts()>1]"
   ]
  },
  {
   "cell_type": "markdown",
   "metadata": {},
   "source": [
    "#### There are some duplicated values in the column custid. 6 of these customerids are repeated twice in the data. We can drop all these 12 rows due to inconsistent values"
   ]
  },
  {
   "cell_type": "code",
   "execution_count": 20,
   "metadata": {},
   "outputs": [
    {
     "data": {
      "text/html": [
       "<div>\n",
       "<style scoped>\n",
       "    .dataframe tbody tr th:only-of-type {\n",
       "        vertical-align: middle;\n",
       "    }\n",
       "\n",
       "    .dataframe tbody tr th {\n",
       "        vertical-align: top;\n",
       "    }\n",
       "\n",
       "    .dataframe thead th {\n",
       "        text-align: right;\n",
       "    }\n",
       "</style>\n",
       "<table border=\"1\" class=\"dataframe\">\n",
       "  <thead>\n",
       "    <tr style=\"text-align: right;\">\n",
       "      <th></th>\n",
       "      <th>custid</th>\n",
       "      <th>retained</th>\n",
       "      <th>created</th>\n",
       "      <th>firstorder</th>\n",
       "      <th>lastorder</th>\n",
       "      <th>esent</th>\n",
       "      <th>eopenrate</th>\n",
       "      <th>eclickrate</th>\n",
       "      <th>avgorder</th>\n",
       "      <th>ordfreq</th>\n",
       "      <th>paperless</th>\n",
       "      <th>refill</th>\n",
       "      <th>doorstep</th>\n",
       "      <th>favday</th>\n",
       "      <th>city</th>\n",
       "    </tr>\n",
       "  </thead>\n",
       "  <tbody>\n",
       "    <tr>\n",
       "      <td>5432</td>\n",
       "      <td>N2JL9X</td>\n",
       "      <td>0</td>\n",
       "      <td>2011-09-21</td>\n",
       "      <td>2011-08-12</td>\n",
       "      <td>2014-02-01</td>\n",
       "      <td>5</td>\n",
       "      <td>0.000000</td>\n",
       "      <td>0.000000</td>\n",
       "      <td>19.45</td>\n",
       "      <td>0.043651</td>\n",
       "      <td>1</td>\n",
       "      <td>0</td>\n",
       "      <td>0</td>\n",
       "      <td>Friday</td>\n",
       "      <td>BOM</td>\n",
       "    </tr>\n",
       "    <tr>\n",
       "      <td>7302</td>\n",
       "      <td>N2JL9X</td>\n",
       "      <td>0</td>\n",
       "      <td>2011-09-21</td>\n",
       "      <td>2011-08-12</td>\n",
       "      <td>2014-02-01</td>\n",
       "      <td>1</td>\n",
       "      <td>100.000000</td>\n",
       "      <td>100.000000</td>\n",
       "      <td>19.45</td>\n",
       "      <td>0.043651</td>\n",
       "      <td>1</td>\n",
       "      <td>0</td>\n",
       "      <td>0</td>\n",
       "      <td>Friday</td>\n",
       "      <td>BOM</td>\n",
       "    </tr>\n",
       "    <tr>\n",
       "      <td>13726</td>\n",
       "      <td>ZA6HL8</td>\n",
       "      <td>1</td>\n",
       "      <td>2013-09-26</td>\n",
       "      <td>2013-09-26</td>\n",
       "      <td>2013-09-26</td>\n",
       "      <td>32</td>\n",
       "      <td>18.750000</td>\n",
       "      <td>3.125000</td>\n",
       "      <td>40.02</td>\n",
       "      <td>0.000000</td>\n",
       "      <td>1</td>\n",
       "      <td>0</td>\n",
       "      <td>0</td>\n",
       "      <td>Monday</td>\n",
       "      <td>BOM</td>\n",
       "    </tr>\n",
       "    <tr>\n",
       "      <td>15600</td>\n",
       "      <td>ZA6HL8</td>\n",
       "      <td>0</td>\n",
       "      <td>2013-09-26</td>\n",
       "      <td>2013-09-26</td>\n",
       "      <td>2013-09-26</td>\n",
       "      <td>13</td>\n",
       "      <td>46.153846</td>\n",
       "      <td>0.000000</td>\n",
       "      <td>40.02</td>\n",
       "      <td>0.000000</td>\n",
       "      <td>1</td>\n",
       "      <td>1</td>\n",
       "      <td>0</td>\n",
       "      <td>Monday</td>\n",
       "      <td>BOM</td>\n",
       "    </tr>\n",
       "    <tr>\n",
       "      <td>17179</td>\n",
       "      <td>VHRL89</td>\n",
       "      <td>1</td>\n",
       "      <td>2013-08-10</td>\n",
       "      <td>2013-10-31</td>\n",
       "      <td>2013-10-31</td>\n",
       "      <td>39</td>\n",
       "      <td>17.948718</td>\n",
       "      <td>7.692308</td>\n",
       "      <td>41.49</td>\n",
       "      <td>0.000000</td>\n",
       "      <td>1</td>\n",
       "      <td>1</td>\n",
       "      <td>1</td>\n",
       "      <td>Saturday</td>\n",
       "      <td>MAA</td>\n",
       "    </tr>\n",
       "    <tr>\n",
       "      <td>17235</td>\n",
       "      <td>XW9FJZ</td>\n",
       "      <td>1</td>\n",
       "      <td>2013-09-10</td>\n",
       "      <td>2013-09-10</td>\n",
       "      <td>2013-11-11</td>\n",
       "      <td>14</td>\n",
       "      <td>14.285714</td>\n",
       "      <td>0.000000</td>\n",
       "      <td>80.72</td>\n",
       "      <td>0.151515</td>\n",
       "      <td>1</td>\n",
       "      <td>0</td>\n",
       "      <td>0</td>\n",
       "      <td>Tuesday</td>\n",
       "      <td>BLR</td>\n",
       "    </tr>\n",
       "    <tr>\n",
       "      <td>20592</td>\n",
       "      <td>VHRL89</td>\n",
       "      <td>0</td>\n",
       "      <td>2013-08-10</td>\n",
       "      <td>2013-10-31</td>\n",
       "      <td>2013-10-31</td>\n",
       "      <td>18</td>\n",
       "      <td>0.000000</td>\n",
       "      <td>0.000000</td>\n",
       "      <td>41.49</td>\n",
       "      <td>0.000000</td>\n",
       "      <td>1</td>\n",
       "      <td>0</td>\n",
       "      <td>0</td>\n",
       "      <td>Tuesday</td>\n",
       "      <td>MAA</td>\n",
       "    </tr>\n",
       "    <tr>\n",
       "      <td>21702</td>\n",
       "      <td>XW9FJZ</td>\n",
       "      <td>1</td>\n",
       "      <td>2013-09-10</td>\n",
       "      <td>2013-09-10</td>\n",
       "      <td>2013-11-11</td>\n",
       "      <td>18</td>\n",
       "      <td>11.111111</td>\n",
       "      <td>0.000000</td>\n",
       "      <td>108.84</td>\n",
       "      <td>0.129032</td>\n",
       "      <td>1</td>\n",
       "      <td>0</td>\n",
       "      <td>0</td>\n",
       "      <td>Tuesday</td>\n",
       "      <td>BLR</td>\n",
       "    </tr>\n",
       "    <tr>\n",
       "      <td>22517</td>\n",
       "      <td>3TXFZX</td>\n",
       "      <td>1</td>\n",
       "      <td>2013-12-12</td>\n",
       "      <td>2013-12-12</td>\n",
       "      <td>2013-12-12</td>\n",
       "      <td>16</td>\n",
       "      <td>25.000000</td>\n",
       "      <td>0.000000</td>\n",
       "      <td>29.00</td>\n",
       "      <td>0.000000</td>\n",
       "      <td>1</td>\n",
       "      <td>0</td>\n",
       "      <td>0</td>\n",
       "      <td>Saturday</td>\n",
       "      <td>BLR</td>\n",
       "    </tr>\n",
       "    <tr>\n",
       "      <td>22741</td>\n",
       "      <td>EQTCV3</td>\n",
       "      <td>1</td>\n",
       "      <td>2013-10-22</td>\n",
       "      <td>2013-12-14</td>\n",
       "      <td>2013-12-14</td>\n",
       "      <td>25</td>\n",
       "      <td>12.000000</td>\n",
       "      <td>8.000000</td>\n",
       "      <td>40.02</td>\n",
       "      <td>0.000000</td>\n",
       "      <td>1</td>\n",
       "      <td>1</td>\n",
       "      <td>0</td>\n",
       "      <td>Friday</td>\n",
       "      <td>BOM</td>\n",
       "    </tr>\n",
       "    <tr>\n",
       "      <td>23266</td>\n",
       "      <td>EQTCV3</td>\n",
       "      <td>1</td>\n",
       "      <td>2013-10-22</td>\n",
       "      <td>2013-12-14</td>\n",
       "      <td>2013-12-14</td>\n",
       "      <td>14</td>\n",
       "      <td>28.571429</td>\n",
       "      <td>0.000000</td>\n",
       "      <td>40.02</td>\n",
       "      <td>0.000000</td>\n",
       "      <td>1</td>\n",
       "      <td>1</td>\n",
       "      <td>0</td>\n",
       "      <td>Friday</td>\n",
       "      <td>BOM</td>\n",
       "    </tr>\n",
       "    <tr>\n",
       "      <td>30222</td>\n",
       "      <td>3TXFZX</td>\n",
       "      <td>1</td>\n",
       "      <td>2017-12-13</td>\n",
       "      <td>2017-12-13</td>\n",
       "      <td>2017-12-13</td>\n",
       "      <td>22</td>\n",
       "      <td>50.000000</td>\n",
       "      <td>13.636364</td>\n",
       "      <td>29.00</td>\n",
       "      <td>0.000000</td>\n",
       "      <td>1</td>\n",
       "      <td>0</td>\n",
       "      <td>0</td>\n",
       "      <td>Saturday</td>\n",
       "      <td>BLR</td>\n",
       "    </tr>\n",
       "  </tbody>\n",
       "</table>\n",
       "</div>"
      ],
      "text/plain": [
       "       custid  retained    created firstorder  lastorder  esent   eopenrate  \\\n",
       "5432   N2JL9X         0 2011-09-21 2011-08-12 2014-02-01      5    0.000000   \n",
       "7302   N2JL9X         0 2011-09-21 2011-08-12 2014-02-01      1  100.000000   \n",
       "13726  ZA6HL8         1 2013-09-26 2013-09-26 2013-09-26     32   18.750000   \n",
       "15600  ZA6HL8         0 2013-09-26 2013-09-26 2013-09-26     13   46.153846   \n",
       "17179  VHRL89         1 2013-08-10 2013-10-31 2013-10-31     39   17.948718   \n",
       "17235  XW9FJZ         1 2013-09-10 2013-09-10 2013-11-11     14   14.285714   \n",
       "20592  VHRL89         0 2013-08-10 2013-10-31 2013-10-31     18    0.000000   \n",
       "21702  XW9FJZ         1 2013-09-10 2013-09-10 2013-11-11     18   11.111111   \n",
       "22517  3TXFZX         1 2013-12-12 2013-12-12 2013-12-12     16   25.000000   \n",
       "22741  EQTCV3         1 2013-10-22 2013-12-14 2013-12-14     25   12.000000   \n",
       "23266  EQTCV3         1 2013-10-22 2013-12-14 2013-12-14     14   28.571429   \n",
       "30222  3TXFZX         1 2017-12-13 2017-12-13 2017-12-13     22   50.000000   \n",
       "\n",
       "       eclickrate  avgorder   ordfreq  paperless  refill  doorstep    favday  \\\n",
       "5432     0.000000     19.45  0.043651          1       0         0    Friday   \n",
       "7302   100.000000     19.45  0.043651          1       0         0    Friday   \n",
       "13726    3.125000     40.02  0.000000          1       0         0    Monday   \n",
       "15600    0.000000     40.02  0.000000          1       1         0    Monday   \n",
       "17179    7.692308     41.49  0.000000          1       1         1  Saturday   \n",
       "17235    0.000000     80.72  0.151515          1       0         0   Tuesday   \n",
       "20592    0.000000     41.49  0.000000          1       0         0   Tuesday   \n",
       "21702    0.000000    108.84  0.129032          1       0         0   Tuesday   \n",
       "22517    0.000000     29.00  0.000000          1       0         0  Saturday   \n",
       "22741    8.000000     40.02  0.000000          1       1         0    Friday   \n",
       "23266    0.000000     40.02  0.000000          1       1         0    Friday   \n",
       "30222   13.636364     29.00  0.000000          1       0         0  Saturday   \n",
       "\n",
       "      city  \n",
       "5432   BOM  \n",
       "7302   BOM  \n",
       "13726  BOM  \n",
       "15600  BOM  \n",
       "17179  MAA  \n",
       "17235  BLR  \n",
       "20592  MAA  \n",
       "21702  BLR  \n",
       "22517  BLR  \n",
       "22741  BOM  \n",
       "23266  BOM  \n",
       "30222  BLR  "
      ]
     },
     "execution_count": 20,
     "metadata": {},
     "output_type": "execute_result"
    }
   ],
   "source": [
    "df2[df2['custid'].duplicated(keep=False)==True]"
   ]
  },
  {
   "cell_type": "code",
   "execution_count": 21,
   "metadata": {},
   "outputs": [
    {
     "data": {
      "text/plain": [
       "(30735, 15)"
      ]
     },
     "execution_count": 21,
     "metadata": {},
     "output_type": "execute_result"
    }
   ],
   "source": [
    "# Dropping Duplicate values in custid\n",
    "dup_index = df2[df2['custid'].duplicated(keep=False)==True].index\n",
    "df3 = df2.drop(dup_index)\n",
    "\n",
    "# reset the index values\n",
    "df3.reset_index(drop=True, inplace = True)\n",
    "\n",
    "# shape of dataset\n",
    "df3.shape"
   ]
  },
  {
   "cell_type": "markdown",
   "metadata": {},
   "source": [
    "# Data Vectorization"
   ]
  },
  {
   "cell_type": "code",
   "execution_count": 22,
   "metadata": {},
   "outputs": [
    {
     "name": "stdout",
     "output_type": "stream",
     "text": [
      "custid : 30735\n",
      "retained : 2\n",
      "created : 2821\n",
      "firstorder : 2669\n",
      "lastorder : 2412\n",
      "esent : 90\n",
      "eopenrate : 977\n",
      "eclickrate : 503\n",
      "avgorder : 9927\n",
      "ordfreq : 3836\n",
      "paperless : 2\n",
      "refill : 2\n",
      "doorstep : 2\n",
      "favday : 7\n",
      "city : 4\n"
     ]
    }
   ],
   "source": [
    "# checking number of unique values in each columns\n",
    "for col in df3.columns:\n",
    "    print(col,':',df3[col].nunique())"
   ]
  },
  {
   "cell_type": "markdown",
   "metadata": {},
   "source": [
    "##### From above analysis on number of unique values, we can say that\n",
    " - custid column has 30741 unique values which is equal to that of no.of rows in our dataset. So we can drop this column, since it doesnot add any information to our dataset\n",
    " - The columns which has only less unique values can be considered as categorical columns i.e. columns 'retained','paperless','refill','doorstep','favday' and 'city'\n",
    " - Columns 'created, 'firstorder', 'lastorder' are of datetime format\n",
    " - Columns 'esent', 'eopenrate', 'eclickrate', 'avgorder', 'ordfreq' are numerical columns"
   ]
  },
  {
   "cell_type": "markdown",
   "metadata": {},
   "source": [
    "#### Dropping custid column since we have all unique values"
   ]
  },
  {
   "cell_type": "code",
   "execution_count": 23,
   "metadata": {},
   "outputs": [],
   "source": [
    "df3.drop(['custid'],axis=1,inplace=True)"
   ]
  },
  {
   "cell_type": "code",
   "execution_count": 24,
   "metadata": {},
   "outputs": [
    {
     "data": {
      "text/plain": [
       "retained               int64\n",
       "created       datetime64[ns]\n",
       "firstorder    datetime64[ns]\n",
       "lastorder     datetime64[ns]\n",
       "esent                  int64\n",
       "eopenrate            float64\n",
       "eclickrate           float64\n",
       "avgorder             float64\n",
       "ordfreq              float64\n",
       "paperless              int64\n",
       "refill                 int64\n",
       "doorstep               int64\n",
       "favday                object\n",
       "city                  object\n",
       "dtype: object"
      ]
     },
     "execution_count": 24,
     "metadata": {},
     "output_type": "execute_result"
    }
   ],
   "source": [
    "df3.dtypes"
   ]
  },
  {
   "cell_type": "code",
   "execution_count": 25,
   "metadata": {},
   "outputs": [],
   "source": [
    "# Numerical Columns\n",
    "num_cols = ['esent', 'eopenrate', 'eclickrate', 'avgorder', 'ordfreq']"
   ]
  },
  {
   "cell_type": "code",
   "execution_count": 26,
   "metadata": {},
   "outputs": [],
   "source": [
    "# Categorical Columns\n",
    "cat_cols = ['retained','paperless','refill','doorstep','favday','city']"
   ]
  },
  {
   "cell_type": "code",
   "execution_count": 27,
   "metadata": {},
   "outputs": [
    {
     "data": {
      "text/plain": [
       "(30735, 14)"
      ]
     },
     "execution_count": 27,
     "metadata": {},
     "output_type": "execute_result"
    }
   ],
   "source": [
    "df4 = df3.copy()\n",
    "df4.shape"
   ]
  },
  {
   "cell_type": "markdown",
   "metadata": {},
   "source": [
    "# Discrepancies and Modifications"
   ]
  },
  {
   "cell_type": "markdown",
   "metadata": {},
   "source": [
    "#### There are some discrepancies in the date columns. Practically, Lastorder date should be greater than firstorder date and firstorder date should be greater than created date. So the rows, which doesnot follow the above mentioned rule, are dropped"
   ]
  },
  {
   "cell_type": "code",
   "execution_count": 28,
   "metadata": {},
   "outputs": [
    {
     "data": {
      "text/plain": [
       "5370"
      ]
     },
     "execution_count": 28,
     "metadata": {},
     "output_type": "execute_result"
    }
   ],
   "source": [
    "drop_rows = df4[(df4['firstorder']>df4['lastorder'])|(df4['created']>df4['firstorder'])]\n",
    "len(drop_rows)"
   ]
  },
  {
   "cell_type": "markdown",
   "metadata": {},
   "source": [
    "#### The above mentioned discrepancy is found in 5370 rows. So these rows are dropped"
   ]
  },
  {
   "cell_type": "code",
   "execution_count": 29,
   "metadata": {},
   "outputs": [
    {
     "data": {
      "text/plain": [
       "(25365, 14)"
      ]
     },
     "execution_count": 29,
     "metadata": {},
     "output_type": "execute_result"
    }
   ],
   "source": [
    "df4.drop(drop_rows.index,inplace=True)\n",
    "df4.reset_index(drop=True,inplace=True)\n",
    "df4.shape"
   ]
  },
  {
   "cell_type": "code",
   "execution_count": 30,
   "metadata": {},
   "outputs": [
    {
     "data": {
      "text/plain": [
       "(25365, 14)"
      ]
     },
     "execution_count": 30,
     "metadata": {},
     "output_type": "execute_result"
    }
   ],
   "source": [
    "df4.shape"
   ]
  },
  {
   "cell_type": "markdown",
   "metadata": {},
   "source": [
    "# Additional data"
   ]
  },
  {
   "cell_type": "markdown",
   "metadata": {},
   "source": [
    "#### We are adding 3 more columns that supplements the dataset. The columns are derived from dataset.\n",
    "- *eopen* - No.of emails opened by the customer\n",
    "- *tenure* - The tenure of the customer calculated using difference between lastorder date and created date of the customer\n",
    "- *recency* - No. of days since the last order was placed by the customer (Difference between max_lastorder date and customer's lastorder date)\n"
   ]
  },
  {
   "cell_type": "code",
   "execution_count": 31,
   "metadata": {},
   "outputs": [],
   "source": [
    "# eopen \n",
    "df4['eopen'] = (df4['esent'] * df4['eopenrate'])/100\n",
    "df4['eopen'] = df4['eopen'].apply(lambda x: math.ceil(x))\n",
    "\n",
    "# tenure\n",
    "df4['tenure'] = df4['lastorder'] - df4['created']\n",
    "df4['tenure'] = df4['tenure'].apply(lambda x: str(x).split(' ')[0])\n",
    "df4['tenure'] = df4['tenure'].astype('int64')\n",
    "df4['tenure'] = df4['tenure']/365\n",
    "\n",
    "# recency\n",
    "max_date = df4['lastorder'].max()\n",
    "df4['recency'] = df4['lastorder'].apply(lambda x: max_date-x)\n",
    "df4['recency'] = df4['recency'].apply(lambda x: str(x).split(' ')[0])\n",
    "df4['recency'] = df4['recency'].astype('int64')\n",
    "df4['recency'] = df4['recency']/365"
   ]
  },
  {
   "cell_type": "code",
   "execution_count": 32,
   "metadata": {},
   "outputs": [
    {
     "data": {
      "text/plain": [
       "Index(['retained', 'created', 'firstorder', 'lastorder', 'esent', 'eopenrate',\n",
       "       'eclickrate', 'avgorder', 'ordfreq', 'paperless', 'refill', 'doorstep',\n",
       "       'favday', 'city', 'eopen', 'tenure', 'recency'],\n",
       "      dtype='object')"
      ]
     },
     "execution_count": 32,
     "metadata": {},
     "output_type": "execute_result"
    }
   ],
   "source": [
    "df4.columns"
   ]
  },
  {
   "cell_type": "code",
   "execution_count": 33,
   "metadata": {},
   "outputs": [
    {
     "data": {
      "text/html": [
       "<div>\n",
       "<style scoped>\n",
       "    .dataframe tbody tr th:only-of-type {\n",
       "        vertical-align: middle;\n",
       "    }\n",
       "\n",
       "    .dataframe tbody tr th {\n",
       "        vertical-align: top;\n",
       "    }\n",
       "\n",
       "    .dataframe thead th {\n",
       "        text-align: right;\n",
       "    }\n",
       "</style>\n",
       "<table border=\"1\" class=\"dataframe\">\n",
       "  <thead>\n",
       "    <tr style=\"text-align: right;\">\n",
       "      <th></th>\n",
       "      <th>retained</th>\n",
       "      <th>created</th>\n",
       "      <th>firstorder</th>\n",
       "      <th>lastorder</th>\n",
       "      <th>esent</th>\n",
       "      <th>eopenrate</th>\n",
       "      <th>eclickrate</th>\n",
       "      <th>avgorder</th>\n",
       "      <th>ordfreq</th>\n",
       "      <th>paperless</th>\n",
       "      <th>refill</th>\n",
       "      <th>doorstep</th>\n",
       "      <th>favday</th>\n",
       "      <th>city</th>\n",
       "      <th>eopen</th>\n",
       "      <th>tenure</th>\n",
       "      <th>recency</th>\n",
       "    </tr>\n",
       "  </thead>\n",
       "  <tbody>\n",
       "    <tr>\n",
       "      <td>0</td>\n",
       "      <td>0</td>\n",
       "      <td>2012-09-28</td>\n",
       "      <td>2013-11-08</td>\n",
       "      <td>2013-11-08</td>\n",
       "      <td>29</td>\n",
       "      <td>100.000000</td>\n",
       "      <td>3.448276</td>\n",
       "      <td>14.52</td>\n",
       "      <td>0.000000</td>\n",
       "      <td>0</td>\n",
       "      <td>0</td>\n",
       "      <td>0</td>\n",
       "      <td>Monday</td>\n",
       "      <td>DEL</td>\n",
       "      <td>29</td>\n",
       "      <td>1.112329</td>\n",
       "      <td>5.065753</td>\n",
       "    </tr>\n",
       "    <tr>\n",
       "      <td>1</td>\n",
       "      <td>1</td>\n",
       "      <td>2010-12-19</td>\n",
       "      <td>2011-01-04</td>\n",
       "      <td>2014-01-19</td>\n",
       "      <td>95</td>\n",
       "      <td>92.631579</td>\n",
       "      <td>10.526316</td>\n",
       "      <td>83.69</td>\n",
       "      <td>0.181641</td>\n",
       "      <td>1</td>\n",
       "      <td>1</td>\n",
       "      <td>1</td>\n",
       "      <td>Friday</td>\n",
       "      <td>DEL</td>\n",
       "      <td>89</td>\n",
       "      <td>3.087671</td>\n",
       "      <td>4.868493</td>\n",
       "    </tr>\n",
       "    <tr>\n",
       "      <td>2</td>\n",
       "      <td>0</td>\n",
       "      <td>2010-10-22</td>\n",
       "      <td>2011-03-28</td>\n",
       "      <td>2011-03-28</td>\n",
       "      <td>0</td>\n",
       "      <td>0.000000</td>\n",
       "      <td>0.000000</td>\n",
       "      <td>54.96</td>\n",
       "      <td>0.000000</td>\n",
       "      <td>0</td>\n",
       "      <td>0</td>\n",
       "      <td>0</td>\n",
       "      <td>Thursday</td>\n",
       "      <td>BOM</td>\n",
       "      <td>0</td>\n",
       "      <td>0.430137</td>\n",
       "      <td>7.684932</td>\n",
       "    </tr>\n",
       "    <tr>\n",
       "      <td>3</td>\n",
       "      <td>1</td>\n",
       "      <td>2010-11-27</td>\n",
       "      <td>2010-11-29</td>\n",
       "      <td>2013-01-28</td>\n",
       "      <td>30</td>\n",
       "      <td>90.000000</td>\n",
       "      <td>13.333333</td>\n",
       "      <td>111.91</td>\n",
       "      <td>0.008850</td>\n",
       "      <td>0</td>\n",
       "      <td>0</td>\n",
       "      <td>0</td>\n",
       "      <td>Monday</td>\n",
       "      <td>BOM</td>\n",
       "      <td>27</td>\n",
       "      <td>2.172603</td>\n",
       "      <td>5.843836</td>\n",
       "    </tr>\n",
       "    <tr>\n",
       "      <td>4</td>\n",
       "      <td>1</td>\n",
       "      <td>2008-11-17</td>\n",
       "      <td>2010-12-10</td>\n",
       "      <td>2014-01-14</td>\n",
       "      <td>46</td>\n",
       "      <td>80.434783</td>\n",
       "      <td>15.217391</td>\n",
       "      <td>175.10</td>\n",
       "      <td>0.141176</td>\n",
       "      <td>1</td>\n",
       "      <td>1</td>\n",
       "      <td>0</td>\n",
       "      <td>Wednesday</td>\n",
       "      <td>DEL</td>\n",
       "      <td>38</td>\n",
       "      <td>5.161644</td>\n",
       "      <td>4.882192</td>\n",
       "    </tr>\n",
       "  </tbody>\n",
       "</table>\n",
       "</div>"
      ],
      "text/plain": [
       "   retained    created firstorder  lastorder  esent   eopenrate  eclickrate  \\\n",
       "0         0 2012-09-28 2013-11-08 2013-11-08     29  100.000000    3.448276   \n",
       "1         1 2010-12-19 2011-01-04 2014-01-19     95   92.631579   10.526316   \n",
       "2         0 2010-10-22 2011-03-28 2011-03-28      0    0.000000    0.000000   \n",
       "3         1 2010-11-27 2010-11-29 2013-01-28     30   90.000000   13.333333   \n",
       "4         1 2008-11-17 2010-12-10 2014-01-14     46   80.434783   15.217391   \n",
       "\n",
       "   avgorder   ordfreq  paperless  refill  doorstep     favday city  eopen  \\\n",
       "0     14.52  0.000000          0       0         0     Monday  DEL     29   \n",
       "1     83.69  0.181641          1       1         1     Friday  DEL     89   \n",
       "2     54.96  0.000000          0       0         0   Thursday  BOM      0   \n",
       "3    111.91  0.008850          0       0         0     Monday  BOM     27   \n",
       "4    175.10  0.141176          1       1         0  Wednesday  DEL     38   \n",
       "\n",
       "     tenure   recency  \n",
       "0  1.112329  5.065753  \n",
       "1  3.087671  4.868493  \n",
       "2  0.430137  7.684932  \n",
       "3  2.172603  5.843836  \n",
       "4  5.161644  4.882192  "
      ]
     },
     "execution_count": 33,
     "metadata": {},
     "output_type": "execute_result"
    }
   ],
   "source": [
    "df4.head()"
   ]
  },
  {
   "cell_type": "code",
   "execution_count": 34,
   "metadata": {},
   "outputs": [
    {
     "data": {
      "text/plain": [
       "retained               int64\n",
       "created       datetime64[ns]\n",
       "firstorder    datetime64[ns]\n",
       "lastorder     datetime64[ns]\n",
       "esent                  int64\n",
       "eopenrate            float64\n",
       "eclickrate           float64\n",
       "avgorder             float64\n",
       "ordfreq              float64\n",
       "paperless              int64\n",
       "refill                 int64\n",
       "doorstep               int64\n",
       "favday                object\n",
       "city                  object\n",
       "eopen                  int64\n",
       "tenure               float64\n",
       "recency              float64\n",
       "dtype: object"
      ]
     },
     "execution_count": 34,
     "metadata": {},
     "output_type": "execute_result"
    }
   ],
   "source": [
    "df4.dtypes"
   ]
  },
  {
   "cell_type": "code",
   "execution_count": 35,
   "metadata": {},
   "outputs": [],
   "source": [
    "# Exporting it to a new file\n",
    "df4.to_csv('clean_data.csv',index = None,header=True)"
   ]
  }
 ],
 "metadata": {
  "kernelspec": {
   "display_name": "Python 3",
   "language": "python",
   "name": "python3"
  },
  "language_info": {
   "codemirror_mode": {
    "name": "ipython",
    "version": 3
   },
   "file_extension": ".py",
   "mimetype": "text/x-python",
   "name": "python",
   "nbconvert_exporter": "python",
   "pygments_lexer": "ipython3",
   "version": "3.7.4"
  }
 },
 "nbformat": 4,
 "nbformat_minor": 2
}
